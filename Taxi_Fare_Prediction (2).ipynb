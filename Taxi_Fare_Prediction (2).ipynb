{
  "cells": [
    {
      "cell_type": "markdown",
      "metadata": {
        "id": "IKbnc8VGzZ2u"
      },
      "source": [
        "#Taxi Fare Prediction\n",
        "                    "
      ]
    },
    {
      "cell_type": "markdown",
      "metadata": {
        "id": "YJ0IHUuAzZ28"
      },
      "source": [
        "## Problem Statement\n",
        "\n",
        "This case study is to predict the taxi fare for a taxi ride in New York City from a given pickup point to the agreed dropoff location. Decision tree and Random Forest regressor is used for the fare prediction."
      ]
    },
    {
      "cell_type": "markdown",
      "metadata": {
        "id": "Pyco4m2RzZ3C"
      },
      "source": [
        "<a id='import_lib'></a>\n",
        "# 1. Import Libraries"
      ]
    },
    {
      "cell_type": "markdown",
      "metadata": {
        "id": "W8I_91lxzZ3D"
      },
      "source": [
        "<table align=\"left\">\n",
        "    <tr>\n",
        "        <td width=\"8%\">\n",
        "            <img src=\"todo.png\">\n",
        "        </td>\n",
        "        <td>\n",
        "            <div align=\"left\", style=\"font-size:120%\">\n",
        "                <font color=\"#21618C\">\n",
        "                    <b>Let us import the required libraries and functions.</b> \n",
        "                </font>\n",
        "            </div>\n",
        "        </td>\n",
        "    </tr>\n",
        "</table>"
      ]
    },
    {
      "cell_type": "code",
      "execution_count": 1,
      "metadata": {
        "collapsed": true,
        "id": "ngoEEPXzzZ3E"
      },
      "outputs": [],
      "source": [
        "# suppress warnings \n",
        "from warnings import filterwarnings\n",
        "filterwarnings('ignore')\n",
        "\n",
        "# 'Os' module provides functions for interacting with the operating system \n",
        "import os\n",
        "\n",
        "# 'Pandas' is used for data manipulation and analysis\n",
        "import pandas as pd \n",
        "\n",
        "# 'Numpy' is used for mathematical operations on large, multi-dimensional arrays and matrices\n",
        "import numpy as np\n",
        "\n",
        "# 'Matplotlib' is a data visualization library for 2D and 3D plots, built on numpy\n",
        "import matplotlib.pyplot as plt\n",
        "%matplotlib inline\n",
        "\n",
        "# 'Seaborn' is based on matplotlib; used for plotting statistical graphics\n",
        "import seaborn as sns\n",
        "\n",
        "from math import radians, cos, sin, sqrt, asin\n",
        "\n",
        "# 'Scikit-learn' (sklearn) emphasizes various regression, classification and clustering algorithms\n",
        "from sklearn.model_selection import train_test_split\n",
        "from sklearn import metrics\n",
        "from sklearn import preprocessing\n",
        "from sklearn.model_selection import GridSearchCV\n",
        "from sklearn.ensemble import RandomForestRegressor"
      ]
    },
    {
      "cell_type": "code",
      "execution_count": 2,
      "metadata": {
        "collapsed": true,
        "id": "glGEUnCrzZ3G"
      },
      "outputs": [],
      "source": [
        "# set the plot size using 'rcParams'\n",
        "# once the plot size is set using 'rcParams', it sets the size of all the forthcoming plots in the file\n",
        "# pass width and height in inches to 'figure.figsize' \n",
        "plt.rcParams['figure.figsize'] = [15,8]"
      ]
    },
    {
      "cell_type": "markdown",
      "metadata": {
        "id": "A2JdOhrzzZ3G"
      },
      "source": [
        "<a id='set_options'></a>\n",
        "# 2. Set Options"
      ]
    },
    {
      "cell_type": "markdown",
      "metadata": {
        "id": "1rX0tUYSzZ3H"
      },
      "source": [
        "Now we make necessary changes to :<br><br>\n",
        "1. Display complete dataframe<br>\n",
        "2. To set the decimal place of a numeric output to 6\n"
      ]
    },
    {
      "cell_type": "code",
      "execution_count": 3,
      "metadata": {
        "collapsed": true,
        "id": "HuE61EzYzZ3H"
      },
      "outputs": [],
      "source": [
        "# display all columns of the dataframe\n",
        "pd.options.display.max_columns = None\n",
        "\n",
        "# display all rows of the dataframe\n",
        "pd.options.display.max_rows = None\n",
        "\n",
        "# returns an output value upto 6 decimals\n",
        "pd.options.display.float_format = '{:.6f}'.format"
      ]
    },
    {
      "cell_type": "markdown",
      "metadata": {
        "id": "2a-qBuyszZ3I"
      },
      "source": [
        "<a id='Read_Data'></a>\n",
        "# 3. Read Data"
      ]
    },
    {
      "cell_type": "markdown",
      "metadata": {
        "id": "JmDVKydfzZ3I"
      },
      "source": [
        "Read and display data to get insights from the data.\n",
        "                    </b> \n",
        "                </font>\n",
        "            </div>\n",
        "        </td>\n",
        "    </tr>\n",
        "</table>"
      ]
    },
    {
      "cell_type": "code",
      "execution_count": 4,
      "metadata": {
        "colab": {
          "base_uri": "https://localhost:8080/"
        },
        "id": "6niAzyuHzicb",
        "outputId": "9f355868-72a5-4c15-d0ff-9a875368ddb0"
      },
      "outputs": [
        {
          "output_type": "stream",
          "name": "stdout",
          "text": [
            "Mounted at /content/drive\n"
          ]
        }
      ],
      "source": [
        "from google.colab import drive\n",
        "drive.mount('/content/drive')"
      ]
    },
    {
      "cell_type": "code",
      "execution_count": 5,
      "metadata": {
        "colab": {
          "base_uri": "https://localhost:8080/",
          "height": 357
        },
        "id": "ZRyf5PXVzZ3J",
        "outputId": "c4aa195d-3bbf-4521-a138-65c7237d83b8"
      },
      "outputs": [
        {
          "output_type": "execute_result",
          "data": {
            "text/plain": [
              "  unique_id    amount      date_time_of_pickup  longitude_of_pickup  \\\n",
              "0   26:21.0  4.500000  2009-06-15 17:26:21 UTC           -73.844311   \n",
              "1   52:16.0 16.900000  2010-01-05 16:52:16 UTC           -74.016048   \n",
              "2   35:00.0  5.700000  2011-08-18 00:35:00 UTC           -73.982738   \n",
              "3   30:42.0  7.700000  2012-04-21 04:30:42 UTC           -73.987130   \n",
              "4   51:00.0  5.300000  2010-03-09 07:51:00 UTC           -73.968095   \n",
              "\n",
              "   latitude_of_pickup  longitude_of_dropoff  latitude_of_dropoff  \\\n",
              "0           40.721319            -73.841610            40.712278   \n",
              "1           40.711303            -73.979268            40.782004   \n",
              "2           40.761270            -73.991242            40.750562   \n",
              "3           40.733143            -73.991567            40.758092   \n",
              "4           40.768008            -73.956655            40.783762   \n",
              "\n",
              "   no_of_passenger  \n",
              "0         1.000000  \n",
              "1         1.000000  \n",
              "2         2.000000  \n",
              "3         1.000000  \n",
              "4         1.000000  "
            ],
            "text/html": [
              "\n",
              "  <div id=\"df-067d1f33-3678-4316-853e-027399d02342\">\n",
              "    <div class=\"colab-df-container\">\n",
              "      <div>\n",
              "<style scoped>\n",
              "    .dataframe tbody tr th:only-of-type {\n",
              "        vertical-align: middle;\n",
              "    }\n",
              "\n",
              "    .dataframe tbody tr th {\n",
              "        vertical-align: top;\n",
              "    }\n",
              "\n",
              "    .dataframe thead th {\n",
              "        text-align: right;\n",
              "    }\n",
              "</style>\n",
              "<table border=\"1\" class=\"dataframe\">\n",
              "  <thead>\n",
              "    <tr style=\"text-align: right;\">\n",
              "      <th></th>\n",
              "      <th>unique_id</th>\n",
              "      <th>amount</th>\n",
              "      <th>date_time_of_pickup</th>\n",
              "      <th>longitude_of_pickup</th>\n",
              "      <th>latitude_of_pickup</th>\n",
              "      <th>longitude_of_dropoff</th>\n",
              "      <th>latitude_of_dropoff</th>\n",
              "      <th>no_of_passenger</th>\n",
              "    </tr>\n",
              "  </thead>\n",
              "  <tbody>\n",
              "    <tr>\n",
              "      <th>0</th>\n",
              "      <td>26:21.0</td>\n",
              "      <td>4.500000</td>\n",
              "      <td>2009-06-15 17:26:21 UTC</td>\n",
              "      <td>-73.844311</td>\n",
              "      <td>40.721319</td>\n",
              "      <td>-73.841610</td>\n",
              "      <td>40.712278</td>\n",
              "      <td>1.000000</td>\n",
              "    </tr>\n",
              "    <tr>\n",
              "      <th>1</th>\n",
              "      <td>52:16.0</td>\n",
              "      <td>16.900000</td>\n",
              "      <td>2010-01-05 16:52:16 UTC</td>\n",
              "      <td>-74.016048</td>\n",
              "      <td>40.711303</td>\n",
              "      <td>-73.979268</td>\n",
              "      <td>40.782004</td>\n",
              "      <td>1.000000</td>\n",
              "    </tr>\n",
              "    <tr>\n",
              "      <th>2</th>\n",
              "      <td>35:00.0</td>\n",
              "      <td>5.700000</td>\n",
              "      <td>2011-08-18 00:35:00 UTC</td>\n",
              "      <td>-73.982738</td>\n",
              "      <td>40.761270</td>\n",
              "      <td>-73.991242</td>\n",
              "      <td>40.750562</td>\n",
              "      <td>2.000000</td>\n",
              "    </tr>\n",
              "    <tr>\n",
              "      <th>3</th>\n",
              "      <td>30:42.0</td>\n",
              "      <td>7.700000</td>\n",
              "      <td>2012-04-21 04:30:42 UTC</td>\n",
              "      <td>-73.987130</td>\n",
              "      <td>40.733143</td>\n",
              "      <td>-73.991567</td>\n",
              "      <td>40.758092</td>\n",
              "      <td>1.000000</td>\n",
              "    </tr>\n",
              "    <tr>\n",
              "      <th>4</th>\n",
              "      <td>51:00.0</td>\n",
              "      <td>5.300000</td>\n",
              "      <td>2010-03-09 07:51:00 UTC</td>\n",
              "      <td>-73.968095</td>\n",
              "      <td>40.768008</td>\n",
              "      <td>-73.956655</td>\n",
              "      <td>40.783762</td>\n",
              "      <td>1.000000</td>\n",
              "    </tr>\n",
              "  </tbody>\n",
              "</table>\n",
              "</div>\n",
              "      <button class=\"colab-df-convert\" onclick=\"convertToInteractive('df-067d1f33-3678-4316-853e-027399d02342')\"\n",
              "              title=\"Convert this dataframe to an interactive table.\"\n",
              "              style=\"display:none;\">\n",
              "        \n",
              "  <svg xmlns=\"http://www.w3.org/2000/svg\" height=\"24px\"viewBox=\"0 0 24 24\"\n",
              "       width=\"24px\">\n",
              "    <path d=\"M0 0h24v24H0V0z\" fill=\"none\"/>\n",
              "    <path d=\"M18.56 5.44l.94 2.06.94-2.06 2.06-.94-2.06-.94-.94-2.06-.94 2.06-2.06.94zm-11 1L8.5 8.5l.94-2.06 2.06-.94-2.06-.94L8.5 2.5l-.94 2.06-2.06.94zm10 10l.94 2.06.94-2.06 2.06-.94-2.06-.94-.94-2.06-.94 2.06-2.06.94z\"/><path d=\"M17.41 7.96l-1.37-1.37c-.4-.4-.92-.59-1.43-.59-.52 0-1.04.2-1.43.59L10.3 9.45l-7.72 7.72c-.78.78-.78 2.05 0 2.83L4 21.41c.39.39.9.59 1.41.59.51 0 1.02-.2 1.41-.59l7.78-7.78 2.81-2.81c.8-.78.8-2.07 0-2.86zM5.41 20L4 18.59l7.72-7.72 1.47 1.35L5.41 20z\"/>\n",
              "  </svg>\n",
              "      </button>\n",
              "      \n",
              "  <style>\n",
              "    .colab-df-container {\n",
              "      display:flex;\n",
              "      flex-wrap:wrap;\n",
              "      gap: 12px;\n",
              "    }\n",
              "\n",
              "    .colab-df-convert {\n",
              "      background-color: #E8F0FE;\n",
              "      border: none;\n",
              "      border-radius: 50%;\n",
              "      cursor: pointer;\n",
              "      display: none;\n",
              "      fill: #1967D2;\n",
              "      height: 32px;\n",
              "      padding: 0 0 0 0;\n",
              "      width: 32px;\n",
              "    }\n",
              "\n",
              "    .colab-df-convert:hover {\n",
              "      background-color: #E2EBFA;\n",
              "      box-shadow: 0px 1px 2px rgba(60, 64, 67, 0.3), 0px 1px 3px 1px rgba(60, 64, 67, 0.15);\n",
              "      fill: #174EA6;\n",
              "    }\n",
              "\n",
              "    [theme=dark] .colab-df-convert {\n",
              "      background-color: #3B4455;\n",
              "      fill: #D2E3FC;\n",
              "    }\n",
              "\n",
              "    [theme=dark] .colab-df-convert:hover {\n",
              "      background-color: #434B5C;\n",
              "      box-shadow: 0px 1px 3px 1px rgba(0, 0, 0, 0.15);\n",
              "      filter: drop-shadow(0px 1px 2px rgba(0, 0, 0, 0.3));\n",
              "      fill: #FFFFFF;\n",
              "    }\n",
              "  </style>\n",
              "\n",
              "      <script>\n",
              "        const buttonEl =\n",
              "          document.querySelector('#df-067d1f33-3678-4316-853e-027399d02342 button.colab-df-convert');\n",
              "        buttonEl.style.display =\n",
              "          google.colab.kernel.accessAllowed ? 'block' : 'none';\n",
              "\n",
              "        async function convertToInteractive(key) {\n",
              "          const element = document.querySelector('#df-067d1f33-3678-4316-853e-027399d02342');\n",
              "          const dataTable =\n",
              "            await google.colab.kernel.invokeFunction('convertToInteractive',\n",
              "                                                     [key], {});\n",
              "          if (!dataTable) return;\n",
              "\n",
              "          const docLinkHtml = 'Like what you see? Visit the ' +\n",
              "            '<a target=\"_blank\" href=https://colab.research.google.com/notebooks/data_table.ipynb>data table notebook</a>'\n",
              "            + ' to learn more about interactive tables.';\n",
              "          element.innerHTML = '';\n",
              "          dataTable['output_type'] = 'display_data';\n",
              "          await google.colab.output.renderOutput(dataTable, element);\n",
              "          const docLink = document.createElement('div');\n",
              "          docLink.innerHTML = docLinkHtml;\n",
              "          element.appendChild(docLink);\n",
              "        }\n",
              "      </script>\n",
              "    </div>\n",
              "  </div>\n",
              "  "
            ]
          },
          "metadata": {},
          "execution_count": 5
        }
      ],
      "source": [
        "# read csv file using pandas\n",
        "df_taxi = pd.read_csv('/content/TaxiFare.csv')\n",
        "\n",
        "# display the top 5 rows of the dataframe\n",
        "df_taxi.head()\n",
        "\n",
        "# Note: To display more rows, example 10, use head(10)"
      ]
    },
    {
      "cell_type": "markdown",
      "metadata": {
        "id": "tMaTnyS8zZ3K"
      },
      "source": [
        "The column `unique_id` contains the unique identifier for each observation, which is redundant for further analysis. Thus, we drop this column."
      ]
    },
    {
      "cell_type": "code",
      "execution_count": 6,
      "metadata": {
        "collapsed": true,
        "id": "nijM_EeizZ3K"
      },
      "outputs": [],
      "source": [
        "# drop the column 'Id' using drop()\n",
        "# 'axis = 1' drops the specified column\n",
        "df_taxi = df_taxi.drop('unique_id', axis = 1)"
      ]
    },
    {
      "cell_type": "markdown",
      "metadata": {
        "id": "RFaIoBuOzZ3K"
      },
      "source": [
        "<a id='data_preparation'></a>\n",
        "# 4. Prepare and Analyze the Data"
      ]
    },
    {
      "cell_type": "markdown",
      "metadata": {
        "id": "v1LTV-IXzZ3L"
      },
      "source": [
        ">Data preparation is the process of cleaning and transforming raw data before building predictive models. <br><br>\n",
        "                        Here we will analyze and prepare data to perform regression techniques:<br>\n",
        "                        1. Check dimensions of the dataframe in terms of rows and columns <br>\n",
        "                        2. Check the data types. If not as per business context, change the data types  <br>\n",
        "                        3. Study Summary Statistics <br>\n",
        "                        4. Distribution of Variables<br>\n",
        "                        5. Analyze relationship between numeric variables <br>\n",
        "                        6. Check for missing values<br>\n",
        "                        7. Study correlation<br>\n",
        "                        8. Analyze relationship between numeric and categoric variables <br><br>\n",
        "                        Note: It is an art to explore data and one will need more and more practice to gain expertise in this area. </b>\n",
        "                </font>\n",
        "            </div>\n",
        "        </td>\n",
        "    </tr>\n",
        "</table>"
      ]
    },
    {
      "cell_type": "markdown",
      "metadata": {
        "id": "5PNiZR8EzZ3L"
      },
      "source": [
        "<a id='Data_Understanding'></a>\n",
        "## 4.1 Understand the Data"
      ]
    },
    {
      "cell_type": "markdown",
      "metadata": {
        "id": "nHWjW2j-zZ3L"
      },
      "source": [
        "**Let us now see the number of variables and observations in the data.**"
      ]
    },
    {
      "cell_type": "code",
      "execution_count": 7,
      "metadata": {
        "colab": {
          "base_uri": "https://localhost:8080/"
        },
        "id": "fCrjWKCPzZ3M",
        "outputId": "dfc3e5a9-1fb5-45f8-c276-d5a5cb79ae7b"
      },
      "outputs": [
        {
          "output_type": "execute_result",
          "data": {
            "text/plain": [
              "(39210, 7)"
            ]
          },
          "metadata": {},
          "execution_count": 7
        }
      ],
      "source": [
        "# 'shape' returns the dimensions of the data\n",
        "df_taxi.shape"
      ]
    },
    {
      "cell_type": "markdown",
      "metadata": {
        "id": "tSuQITJwzZ3M"
      },
      "source": [
        "We see the dataframe has 7 columns and 50000 rows. It means there are 7 variables and 50000 observations."
      ]
    },
    {
      "cell_type": "markdown",
      "metadata": {
        "id": "mGhmpAdNzZ3M"
      },
      "source": [
        "<a id='Data_Types'></a>\n",
        "### 4.1.1 Data Type\n",
        "\n",
        "Data has a variety of data types. The main types stored in pandas dataframes are object, float, int64, bool and datetime64. In order to learn about each attribute, it is always good for us to know the data type of each column."
      ]
    },
    {
      "cell_type": "markdown",
      "metadata": {
        "id": "atjWdGV-zZ3N"
      },
      "source": [
        "In order to know whether the datatype aof each variable is correct, we do the following:<br><br>\n",
        "                        1. Check the data type <br>\n",
        "                        2. Change the incorrect data type <br>\n",
        "                        3. Recheck the data type after the conversion <br>\n",
        "                        4. Feature engineering <br>\n",
        "                        5. Drop the redundant variables <br>\n",
        "                       </b>\n",
        "                </font>\n",
        "            </div>\n",
        "        </td>\n",
        "    </tr>\n",
        "</table>"
      ]
    },
    {
      "cell_type": "markdown",
      "metadata": {
        "id": "VNB2J9TnzZ3N"
      },
      "source": [
        "**1. Check the data type.**"
      ]
    },
    {
      "cell_type": "code",
      "execution_count": 8,
      "metadata": {
        "colab": {
          "base_uri": "https://localhost:8080/"
        },
        "id": "uKB5vrV7zZ3N",
        "outputId": "5deaa2a6-b6f2-4ba8-f284-1f96a85c17ef"
      },
      "outputs": [
        {
          "output_type": "execute_result",
          "data": {
            "text/plain": [
              "amount                  float64\n",
              "date_time_of_pickup      object\n",
              "longitude_of_pickup     float64\n",
              "latitude_of_pickup      float64\n",
              "longitude_of_dropoff    float64\n",
              "latitude_of_dropoff     float64\n",
              "no_of_passenger         float64\n",
              "dtype: object"
            ]
          },
          "metadata": {},
          "execution_count": 8
        }
      ],
      "source": [
        "# use 'dtypes' to check the data type of each variable\n",
        "df_taxi.dtypes"
      ]
    },
    {
      "cell_type": "markdown",
      "metadata": {
        "id": "nzz3reomzZ3N"
      },
      "source": [
        "From the above output, we see that the data type of 'date_time_of_pickup' is 'object '.<br>\n",
        "\n",
        "But according to data definition, 'date_time_of_pickup 'is a date time stamp variable, which is wrongly interpreted as 'object', so we will convert this variable data type to 'datetime'.</br></b>\n",
        "                </font>\n",
        "            </div>\n",
        "        </td>\n",
        "    </tr>\n",
        "</table>\n",
        "\n",
        "\n"
      ]
    },
    {
      "cell_type": "markdown",
      "metadata": {
        "id": "gk388r2TzZ3O"
      },
      "source": [
        "**2. Change the incorrect data type.**"
      ]
    },
    {
      "cell_type": "code",
      "execution_count": 9,
      "metadata": {
        "collapsed": true,
        "id": "fqv1x3VhzZ3O"
      },
      "outputs": [],
      "source": [
        "# convert object to datetime using to_datetime method from pandas\n",
        "#if error is set to'coerce', then invalid parsing will be set as NaT.\n",
        "df_taxi.date_time_of_pickup = pd.to_datetime(df_taxi.date_time_of_pickup, errors='coerce')"
      ]
    },
    {
      "cell_type": "markdown",
      "metadata": {
        "id": "QVshTmiFzZ3O"
      },
      "source": [
        "**3. Recheck the data type after the conversion.**"
      ]
    },
    {
      "cell_type": "code",
      "execution_count": 10,
      "metadata": {
        "colab": {
          "base_uri": "https://localhost:8080/"
        },
        "id": "HbE7j_21zZ3O",
        "outputId": "c0ddd145-0f4e-4f99-9f61-3677fd83665f"
      },
      "outputs": [
        {
          "output_type": "execute_result",
          "data": {
            "text/plain": [
              "amount                              float64\n",
              "date_time_of_pickup     datetime64[ns, UTC]\n",
              "longitude_of_pickup                 float64\n",
              "latitude_of_pickup                  float64\n",
              "longitude_of_dropoff                float64\n",
              "latitude_of_dropoff                 float64\n",
              "no_of_passenger                     float64\n",
              "dtype: object"
            ]
          },
          "metadata": {},
          "execution_count": 10
        }
      ],
      "source": [
        "# recheck the data type of each column\n",
        "df_taxi.dtypes"
      ]
    },
    {
      "cell_type": "markdown",
      "metadata": {
        "id": "R2Snq4jBzZ3P"
      },
      "source": [
        "<table align=\"left\">\n",
        "    <tr>\n",
        "        <td width=\"8%\">\n",
        "           <img src=\"infer.png\">\n",
        "        </td>\n",
        "        <td>\n",
        "            <div align=\"left\", style=\"font-size:120%\">\n",
        "                <font color=\"#21618C\">\n",
        "                    <b>Now the data type of each variable is as per the data definition.</b>\n",
        "                </font>\n",
        "            </div>\n",
        "        </td>\n",
        "    </tr>\n",
        "</table>"
      ]
    },
    {
      "cell_type": "markdown",
      "metadata": {
        "id": "KVEYF0bXzZ3P"
      },
      "source": [
        "<a id='Feature_Eng'></a>\n",
        "### 4.1.2 Feature Engineering\n",
        "\n",
        "We will extract date time features from the variable 'date_time_of_pickup'."
      ]
    },
    {
      "cell_type": "markdown",
      "metadata": {
        "id": "e-TsDwlazZ3P"
      },
      "source": [
        "<table align=\"left\">\n",
        "    <tr>\n",
        "        <td width=\"8%\">\n",
        "            <img src=\"todo.png\">\n",
        "        </td>\n",
        "        <td>\n",
        "            <div align=\"left\", style=\"font-size:120%\">\n",
        "                <font color=\"#21618C\">\n",
        "                    <b>For feature engineering, we do the following:<br><br>\n",
        "                        1. Feature addition <br>\n",
        "                        2. Drop the redundant variables <br>\n",
        "                       </b>\n",
        "                </font>\n",
        "            </div>\n",
        "        </td>\n",
        "    </tr>\n",
        "</table>"
      ]
    },
    {
      "cell_type": "markdown",
      "metadata": {
        "id": "rV0Pa5QszZ3Q"
      },
      "source": [
        "**1. Add new variables**"
      ]
    },
    {
      "cell_type": "markdown",
      "metadata": {
        "id": "FDyKb2ipzZ3Q"
      },
      "source": [
        "We will extract new features from variable `date_time_of_pickup` . We will also add a variable which measures the distance between the pickup and dropoff point."
      ]
    },
    {
      "cell_type": "code",
      "execution_count": 11,
      "metadata": {
        "collapsed": true,
        "id": "drNfJU5XzZ3Q"
      },
      "outputs": [],
      "source": [
        "# extract various date time components as seperate variables\n",
        "df_taxi = df_taxi.assign(hour = df_taxi.date_time_of_pickup.dt.hour, \n",
        "                         day = df_taxi.date_time_of_pickup.dt.day,\n",
        "                        month = df_taxi.date_time_of_pickup.dt.month, \n",
        "                        year = df_taxi.date_time_of_pickup.dt.year, \n",
        "                        dayofweek = df_taxi.date_time_of_pickup.dt.dayofweek)"
      ]
    },
    {
      "cell_type": "markdown",
      "metadata": {
        "id": "wf-pT_VrzZ3Q"
      },
      "source": [
        "We will add a new variable which measures the distance between the pickup and dropoff point. We will use the Haversine formula to compute the distance between two points of the journey, using the logitude and latitude values. "
      ]
    },
    {
      "cell_type": "markdown",
      "metadata": {
        "id": "K0UonjvezZ3Q"
      },
      "source": [
        "<table align=\"left\">\n",
        "    <tr>\n",
        "        <td width=\"8%\">\n",
        "            <img src=\"alsoreadicon.png\">\n",
        "        </td>\n",
        "        <td>\n",
        "            <div align=\"left\", style=\"font-size:120%\">\n",
        "                <font color=\"#21618C\">\n",
        "                    <b>I love to know more:  </b><a href=\"https://en.wikipedia.org/wiki/Haversine_formula\"> What is Haversine </a>\n",
        "</font>\n",
        "            </div>\n",
        "        </td>\n",
        "    </tr>\n",
        "</table>"
      ]
    },
    {
      "cell_type": "code",
      "execution_count": 12,
      "metadata": {
        "collapsed": true,
        "id": "DmKQN9-kzZ3R"
      },
      "outputs": [],
      "source": [
        "# function to calculate the travel distance from the longitudes and latitudes\n",
        "def distance_transform(longitude1, latitude1, longitude2, latitude2):\n",
        "    travel_dist = []\n",
        "    \n",
        "    for pos in range(len(longitude1)):\n",
        "        long1,lati1,long2,lati2 = map(radians,[longitude1[pos],latitude1[pos],longitude2[pos],latitude2[pos]])\n",
        "        dist_long = long2 - long1\n",
        "        dist_lati = lati2 - lati1\n",
        "        a = sin(dist_lati/2)**2 + cos(lati1) * cos(lati2) * sin(dist_long/2)**2\n",
        "        c = 2 * asin(sqrt(a))*6371\n",
        "        travel_dist.append(c)\n",
        "       \n",
        "    return travel_dist"
      ]
    },
    {
      "cell_type": "code",
      "execution_count": 13,
      "metadata": {
        "collapsed": true,
        "id": "TIhF29ISzZ3R"
      },
      "outputs": [],
      "source": [
        "#Add a new variable travel distance\n",
        "\n",
        "df_taxi['travel_dist_km'] = distance_transform(df_taxi['longitude_of_pickup'].to_numpy(),\n",
        "                                                df_taxi['latitude_of_pickup'].to_numpy(),\n",
        "                                                df_taxi['longitude_of_dropoff'].to_numpy(),\n",
        "                                                df_taxi['latitude_of_dropoff'].to_numpy()\n",
        "                                              )"
      ]
    },
    {
      "cell_type": "code",
      "execution_count": 14,
      "metadata": {
        "colab": {
          "base_uri": "https://localhost:8080/",
          "height": 0
        },
        "id": "m1dnbqh4zZ3R",
        "outputId": "5e770c73-2fa4-402d-8549-883ae8f0aac7",
        "scrolled": true
      },
      "outputs": [
        {
          "output_type": "execute_result",
          "data": {
            "text/plain": [
              "     amount       date_time_of_pickup  longitude_of_pickup  \\\n",
              "0  4.500000 2009-06-15 17:26:21+00:00           -73.844311   \n",
              "1 16.900000 2010-01-05 16:52:16+00:00           -74.016048   \n",
              "2  5.700000 2011-08-18 00:35:00+00:00           -73.982738   \n",
              "3  7.700000 2012-04-21 04:30:42+00:00           -73.987130   \n",
              "4  5.300000 2010-03-09 07:51:00+00:00           -73.968095   \n",
              "\n",
              "   latitude_of_pickup  longitude_of_dropoff  latitude_of_dropoff  \\\n",
              "0           40.721319            -73.841610            40.712278   \n",
              "1           40.711303            -73.979268            40.782004   \n",
              "2           40.761270            -73.991242            40.750562   \n",
              "3           40.733143            -73.991567            40.758092   \n",
              "4           40.768008            -73.956655            40.783762   \n",
              "\n",
              "   no_of_passenger  hour  day  month  year  dayofweek  travel_dist_km  \n",
              "0         1.000000    17   15      6  2009          0        1.030764  \n",
              "1         1.000000    16    5      1  2010          1        8.450134  \n",
              "2         2.000000     0   18      8  2011          3        1.389525  \n",
              "3         1.000000     4   21      4  2012          5        2.799270  \n",
              "4         1.000000     7    9      3  2010          1        1.999157  "
            ],
            "text/html": [
              "\n",
              "  <div id=\"df-3b741a65-bcc7-4b39-b412-0660397176b1\">\n",
              "    <div class=\"colab-df-container\">\n",
              "      <div>\n",
              "<style scoped>\n",
              "    .dataframe tbody tr th:only-of-type {\n",
              "        vertical-align: middle;\n",
              "    }\n",
              "\n",
              "    .dataframe tbody tr th {\n",
              "        vertical-align: top;\n",
              "    }\n",
              "\n",
              "    .dataframe thead th {\n",
              "        text-align: right;\n",
              "    }\n",
              "</style>\n",
              "<table border=\"1\" class=\"dataframe\">\n",
              "  <thead>\n",
              "    <tr style=\"text-align: right;\">\n",
              "      <th></th>\n",
              "      <th>amount</th>\n",
              "      <th>date_time_of_pickup</th>\n",
              "      <th>longitude_of_pickup</th>\n",
              "      <th>latitude_of_pickup</th>\n",
              "      <th>longitude_of_dropoff</th>\n",
              "      <th>latitude_of_dropoff</th>\n",
              "      <th>no_of_passenger</th>\n",
              "      <th>hour</th>\n",
              "      <th>day</th>\n",
              "      <th>month</th>\n",
              "      <th>year</th>\n",
              "      <th>dayofweek</th>\n",
              "      <th>travel_dist_km</th>\n",
              "    </tr>\n",
              "  </thead>\n",
              "  <tbody>\n",
              "    <tr>\n",
              "      <th>0</th>\n",
              "      <td>4.500000</td>\n",
              "      <td>2009-06-15 17:26:21+00:00</td>\n",
              "      <td>-73.844311</td>\n",
              "      <td>40.721319</td>\n",
              "      <td>-73.841610</td>\n",
              "      <td>40.712278</td>\n",
              "      <td>1.000000</td>\n",
              "      <td>17</td>\n",
              "      <td>15</td>\n",
              "      <td>6</td>\n",
              "      <td>2009</td>\n",
              "      <td>0</td>\n",
              "      <td>1.030764</td>\n",
              "    </tr>\n",
              "    <tr>\n",
              "      <th>1</th>\n",
              "      <td>16.900000</td>\n",
              "      <td>2010-01-05 16:52:16+00:00</td>\n",
              "      <td>-74.016048</td>\n",
              "      <td>40.711303</td>\n",
              "      <td>-73.979268</td>\n",
              "      <td>40.782004</td>\n",
              "      <td>1.000000</td>\n",
              "      <td>16</td>\n",
              "      <td>5</td>\n",
              "      <td>1</td>\n",
              "      <td>2010</td>\n",
              "      <td>1</td>\n",
              "      <td>8.450134</td>\n",
              "    </tr>\n",
              "    <tr>\n",
              "      <th>2</th>\n",
              "      <td>5.700000</td>\n",
              "      <td>2011-08-18 00:35:00+00:00</td>\n",
              "      <td>-73.982738</td>\n",
              "      <td>40.761270</td>\n",
              "      <td>-73.991242</td>\n",
              "      <td>40.750562</td>\n",
              "      <td>2.000000</td>\n",
              "      <td>0</td>\n",
              "      <td>18</td>\n",
              "      <td>8</td>\n",
              "      <td>2011</td>\n",
              "      <td>3</td>\n",
              "      <td>1.389525</td>\n",
              "    </tr>\n",
              "    <tr>\n",
              "      <th>3</th>\n",
              "      <td>7.700000</td>\n",
              "      <td>2012-04-21 04:30:42+00:00</td>\n",
              "      <td>-73.987130</td>\n",
              "      <td>40.733143</td>\n",
              "      <td>-73.991567</td>\n",
              "      <td>40.758092</td>\n",
              "      <td>1.000000</td>\n",
              "      <td>4</td>\n",
              "      <td>21</td>\n",
              "      <td>4</td>\n",
              "      <td>2012</td>\n",
              "      <td>5</td>\n",
              "      <td>2.799270</td>\n",
              "    </tr>\n",
              "    <tr>\n",
              "      <th>4</th>\n",
              "      <td>5.300000</td>\n",
              "      <td>2010-03-09 07:51:00+00:00</td>\n",
              "      <td>-73.968095</td>\n",
              "      <td>40.768008</td>\n",
              "      <td>-73.956655</td>\n",
              "      <td>40.783762</td>\n",
              "      <td>1.000000</td>\n",
              "      <td>7</td>\n",
              "      <td>9</td>\n",
              "      <td>3</td>\n",
              "      <td>2010</td>\n",
              "      <td>1</td>\n",
              "      <td>1.999157</td>\n",
              "    </tr>\n",
              "  </tbody>\n",
              "</table>\n",
              "</div>\n",
              "      <button class=\"colab-df-convert\" onclick=\"convertToInteractive('df-3b741a65-bcc7-4b39-b412-0660397176b1')\"\n",
              "              title=\"Convert this dataframe to an interactive table.\"\n",
              "              style=\"display:none;\">\n",
              "        \n",
              "  <svg xmlns=\"http://www.w3.org/2000/svg\" height=\"24px\"viewBox=\"0 0 24 24\"\n",
              "       width=\"24px\">\n",
              "    <path d=\"M0 0h24v24H0V0z\" fill=\"none\"/>\n",
              "    <path d=\"M18.56 5.44l.94 2.06.94-2.06 2.06-.94-2.06-.94-.94-2.06-.94 2.06-2.06.94zm-11 1L8.5 8.5l.94-2.06 2.06-.94-2.06-.94L8.5 2.5l-.94 2.06-2.06.94zm10 10l.94 2.06.94-2.06 2.06-.94-2.06-.94-.94-2.06-.94 2.06-2.06.94z\"/><path d=\"M17.41 7.96l-1.37-1.37c-.4-.4-.92-.59-1.43-.59-.52 0-1.04.2-1.43.59L10.3 9.45l-7.72 7.72c-.78.78-.78 2.05 0 2.83L4 21.41c.39.39.9.59 1.41.59.51 0 1.02-.2 1.41-.59l7.78-7.78 2.81-2.81c.8-.78.8-2.07 0-2.86zM5.41 20L4 18.59l7.72-7.72 1.47 1.35L5.41 20z\"/>\n",
              "  </svg>\n",
              "      </button>\n",
              "      \n",
              "  <style>\n",
              "    .colab-df-container {\n",
              "      display:flex;\n",
              "      flex-wrap:wrap;\n",
              "      gap: 12px;\n",
              "    }\n",
              "\n",
              "    .colab-df-convert {\n",
              "      background-color: #E8F0FE;\n",
              "      border: none;\n",
              "      border-radius: 50%;\n",
              "      cursor: pointer;\n",
              "      display: none;\n",
              "      fill: #1967D2;\n",
              "      height: 32px;\n",
              "      padding: 0 0 0 0;\n",
              "      width: 32px;\n",
              "    }\n",
              "\n",
              "    .colab-df-convert:hover {\n",
              "      background-color: #E2EBFA;\n",
              "      box-shadow: 0px 1px 2px rgba(60, 64, 67, 0.3), 0px 1px 3px 1px rgba(60, 64, 67, 0.15);\n",
              "      fill: #174EA6;\n",
              "    }\n",
              "\n",
              "    [theme=dark] .colab-df-convert {\n",
              "      background-color: #3B4455;\n",
              "      fill: #D2E3FC;\n",
              "    }\n",
              "\n",
              "    [theme=dark] .colab-df-convert:hover {\n",
              "      background-color: #434B5C;\n",
              "      box-shadow: 0px 1px 3px 1px rgba(0, 0, 0, 0.15);\n",
              "      filter: drop-shadow(0px 1px 2px rgba(0, 0, 0, 0.3));\n",
              "      fill: #FFFFFF;\n",
              "    }\n",
              "  </style>\n",
              "\n",
              "      <script>\n",
              "        const buttonEl =\n",
              "          document.querySelector('#df-3b741a65-bcc7-4b39-b412-0660397176b1 button.colab-df-convert');\n",
              "        buttonEl.style.display =\n",
              "          google.colab.kernel.accessAllowed ? 'block' : 'none';\n",
              "\n",
              "        async function convertToInteractive(key) {\n",
              "          const element = document.querySelector('#df-3b741a65-bcc7-4b39-b412-0660397176b1');\n",
              "          const dataTable =\n",
              "            await google.colab.kernel.invokeFunction('convertToInteractive',\n",
              "                                                     [key], {});\n",
              "          if (!dataTable) return;\n",
              "\n",
              "          const docLinkHtml = 'Like what you see? Visit the ' +\n",
              "            '<a target=\"_blank\" href=https://colab.research.google.com/notebooks/data_table.ipynb>data table notebook</a>'\n",
              "            + ' to learn more about interactive tables.';\n",
              "          element.innerHTML = '';\n",
              "          dataTable['output_type'] = 'display_data';\n",
              "          await google.colab.output.renderOutput(dataTable, element);\n",
              "          const docLink = document.createElement('div');\n",
              "          docLink.innerHTML = docLinkHtml;\n",
              "          element.appendChild(docLink);\n",
              "        }\n",
              "      </script>\n",
              "    </div>\n",
              "  </div>\n",
              "  "
            ]
          },
          "metadata": {},
          "execution_count": 14
        }
      ],
      "source": [
        "#Check the newly added vaiarbles\n",
        "df_taxi.head(5)"
      ]
    },
    {
      "cell_type": "markdown",
      "metadata": {
        "id": "4rTSvGG8zZ3S"
      },
      "source": [
        "**2. Drop the redundant variable.**"
      ]
    },
    {
      "cell_type": "markdown",
      "metadata": {
        "id": "Sq1NW6CwzZ3S"
      },
      "source": [
        "As we have extracted new features from variable `date_time_of_pickup` this variable is redundant for further analysis. Hence we drop this variable."
      ]
    },
    {
      "cell_type": "code",
      "execution_count": 15,
      "metadata": {
        "collapsed": true,
        "id": "QFFTVqzYzZ3S"
      },
      "outputs": [],
      "source": [
        "# drop the column 'date_time_of_pickup' using drop()\n",
        "# 'axis = 1' drops the specified column\n",
        "\n",
        "df_taxi = df_taxi.drop('date_time_of_pickup',axis=1)"
      ]
    },
    {
      "cell_type": "code",
      "execution_count": 16,
      "metadata": {
        "colab": {
          "base_uri": "https://localhost:8080/"
        },
        "id": "vAE9tGBZzZ3S",
        "outputId": "e568ab0c-c8dc-404e-ab97-3e1e2bb79b1d"
      },
      "outputs": [
        {
          "output_type": "stream",
          "name": "stdout",
          "text": [
            "<class 'pandas.core.frame.DataFrame'>\n",
            "RangeIndex: 39210 entries, 0 to 39209\n",
            "Data columns (total 12 columns):\n",
            " #   Column                Non-Null Count  Dtype  \n",
            "---  ------                --------------  -----  \n",
            " 0   amount                39210 non-null  float64\n",
            " 1   longitude_of_pickup   39210 non-null  float64\n",
            " 2   latitude_of_pickup    39209 non-null  float64\n",
            " 3   longitude_of_dropoff  39209 non-null  float64\n",
            " 4   latitude_of_dropoff   39209 non-null  float64\n",
            " 5   no_of_passenger       39209 non-null  float64\n",
            " 6   hour                  39210 non-null  int64  \n",
            " 7   day                   39210 non-null  int64  \n",
            " 8   month                 39210 non-null  int64  \n",
            " 9   year                  39210 non-null  int64  \n",
            " 10  dayofweek             39210 non-null  int64  \n",
            " 11  travel_dist_km        39209 non-null  float64\n",
            "dtypes: float64(7), int64(5)\n",
            "memory usage: 3.6 MB\n"
          ]
        }
      ],
      "source": [
        "df_taxi.info()"
      ]
    },
    {
      "cell_type": "markdown",
      "metadata": {
        "id": "38vP9UMQzZ3S"
      },
      "source": [
        "As now have the required features, after having extracted new ones and dropping the redundant variables."
      ]
    },
    {
      "cell_type": "markdown",
      "metadata": {
        "id": "HDUw-iLfzZ3T"
      },
      "source": [
        "<a id='Summary_Statistics'></a>\n",
        "### 4.1.3 Summary Statistics\n",
        "\n",
        "Here we take a look at the summary of each attribute. This includes the count, mean, the minimum and maximum values as well as some percentiles for numeric variables and count, unique, top, frequency for other variable types."
      ]
    },
    {
      "cell_type": "markdown",
      "metadata": {
        "id": "KcSjGDjazZ3T"
      },
      "source": [
        "<table align=\"left\">\n",
        "    <tr>\n",
        "        <td width=\"8%\">\n",
        "            <img src=\"todo.png\">\n",
        "        </td>\n",
        "        <td>\n",
        "            <div align=\"left\", style=\"font-size:120%\">\n",
        "                <font color=\"#21618C\">\n",
        "                    <b> In our dataset we have both numerical and categorical variables. Now we check for summary statistics of all the variables<br><br>\n",
        "                        1. For numerical variables, use the describe()<br>\n",
        "                        2. For categorical variables use the describe(include='object')\n",
        "                    </b>\n",
        "                </font>\n",
        "            </div>\n",
        "        </td>\n",
        "    </tr>\n",
        "</table>"
      ]
    },
    {
      "cell_type": "markdown",
      "metadata": {
        "id": "IiKxhBZAzZ3T"
      },
      "source": [
        "**1. For numerical variables, use the describe()**"
      ]
    },
    {
      "cell_type": "code",
      "execution_count": 17,
      "metadata": {
        "colab": {
          "base_uri": "https://localhost:8080/",
          "height": 0
        },
        "id": "51G7Goz6zZ3T",
        "outputId": "a7cb3b38-42ee-46da-9f9b-b6857c66bb79"
      },
      "outputs": [
        {
          "output_type": "execute_result",
          "data": {
            "text/plain": [
              "                            count        mean        std         min  \\\n",
              "amount               39210.000000   11.352151   9.649585   -3.000000   \n",
              "longitude_of_pickup  39210.000000  -72.512242  10.397091  -75.414728   \n",
              "latitude_of_pickup   39209.000000   39.934048   6.323683  -74.006893   \n",
              "longitude_of_dropoff 39209.000000  -72.500431  10.434065  -84.654241   \n",
              "latitude_of_dropoff  39209.000000   39.921036   6.068828  -74.006377   \n",
              "no_of_passenger      39209.000000    1.663419   1.284245    0.000000   \n",
              "hour                 39210.000000   13.477480   6.519590    0.000000   \n",
              "day                  39210.000000   15.694058   8.683399    1.000000   \n",
              "month                39210.000000    6.268707   3.457598    1.000000   \n",
              "year                 39210.000000 2011.745728   1.862271 2009.000000   \n",
              "dayofweek            39210.000000    3.035323   1.957427    0.000000   \n",
              "travel_dist_km       39209.000000   17.988426 348.668187    0.000000   \n",
              "\n",
              "                             25%         50%         75%         max  \n",
              "amount                  6.000000    8.500000   12.500000  200.000000  \n",
              "longitude_of_pickup   -73.992060  -73.981747  -73.967085   40.783472  \n",
              "latitude_of_pickup     40.734797   40.752702   40.767358  401.083332  \n",
              "longitude_of_dropoff  -73.991170  -73.980196  -73.963760   40.851027  \n",
              "latitude_of_dropoff    40.734319   40.753340   40.768146   43.415190  \n",
              "no_of_passenger         1.000000    1.000000    2.000000    6.000000  \n",
              "hour                    9.000000   14.000000   19.000000   23.000000  \n",
              "day                     8.000000   16.000000   23.000000   31.000000  \n",
              "month                   3.000000    6.000000    9.000000   12.000000  \n",
              "year                 2010.000000 2012.000000 2013.000000 2015.000000  \n",
              "dayofweek               1.000000    3.000000    5.000000    6.000000  \n",
              "travel_dist_km          1.225156    2.121676    3.888813 8667.572331  "
            ],
            "text/html": [
              "\n",
              "  <div id=\"df-7af87922-6983-4a90-b94b-ee2e4e66857f\">\n",
              "    <div class=\"colab-df-container\">\n",
              "      <div>\n",
              "<style scoped>\n",
              "    .dataframe tbody tr th:only-of-type {\n",
              "        vertical-align: middle;\n",
              "    }\n",
              "\n",
              "    .dataframe tbody tr th {\n",
              "        vertical-align: top;\n",
              "    }\n",
              "\n",
              "    .dataframe thead th {\n",
              "        text-align: right;\n",
              "    }\n",
              "</style>\n",
              "<table border=\"1\" class=\"dataframe\">\n",
              "  <thead>\n",
              "    <tr style=\"text-align: right;\">\n",
              "      <th></th>\n",
              "      <th>count</th>\n",
              "      <th>mean</th>\n",
              "      <th>std</th>\n",
              "      <th>min</th>\n",
              "      <th>25%</th>\n",
              "      <th>50%</th>\n",
              "      <th>75%</th>\n",
              "      <th>max</th>\n",
              "    </tr>\n",
              "  </thead>\n",
              "  <tbody>\n",
              "    <tr>\n",
              "      <th>amount</th>\n",
              "      <td>39210.000000</td>\n",
              "      <td>11.352151</td>\n",
              "      <td>9.649585</td>\n",
              "      <td>-3.000000</td>\n",
              "      <td>6.000000</td>\n",
              "      <td>8.500000</td>\n",
              "      <td>12.500000</td>\n",
              "      <td>200.000000</td>\n",
              "    </tr>\n",
              "    <tr>\n",
              "      <th>longitude_of_pickup</th>\n",
              "      <td>39210.000000</td>\n",
              "      <td>-72.512242</td>\n",
              "      <td>10.397091</td>\n",
              "      <td>-75.414728</td>\n",
              "      <td>-73.992060</td>\n",
              "      <td>-73.981747</td>\n",
              "      <td>-73.967085</td>\n",
              "      <td>40.783472</td>\n",
              "    </tr>\n",
              "    <tr>\n",
              "      <th>latitude_of_pickup</th>\n",
              "      <td>39209.000000</td>\n",
              "      <td>39.934048</td>\n",
              "      <td>6.323683</td>\n",
              "      <td>-74.006893</td>\n",
              "      <td>40.734797</td>\n",
              "      <td>40.752702</td>\n",
              "      <td>40.767358</td>\n",
              "      <td>401.083332</td>\n",
              "    </tr>\n",
              "    <tr>\n",
              "      <th>longitude_of_dropoff</th>\n",
              "      <td>39209.000000</td>\n",
              "      <td>-72.500431</td>\n",
              "      <td>10.434065</td>\n",
              "      <td>-84.654241</td>\n",
              "      <td>-73.991170</td>\n",
              "      <td>-73.980196</td>\n",
              "      <td>-73.963760</td>\n",
              "      <td>40.851027</td>\n",
              "    </tr>\n",
              "    <tr>\n",
              "      <th>latitude_of_dropoff</th>\n",
              "      <td>39209.000000</td>\n",
              "      <td>39.921036</td>\n",
              "      <td>6.068828</td>\n",
              "      <td>-74.006377</td>\n",
              "      <td>40.734319</td>\n",
              "      <td>40.753340</td>\n",
              "      <td>40.768146</td>\n",
              "      <td>43.415190</td>\n",
              "    </tr>\n",
              "    <tr>\n",
              "      <th>no_of_passenger</th>\n",
              "      <td>39209.000000</td>\n",
              "      <td>1.663419</td>\n",
              "      <td>1.284245</td>\n",
              "      <td>0.000000</td>\n",
              "      <td>1.000000</td>\n",
              "      <td>1.000000</td>\n",
              "      <td>2.000000</td>\n",
              "      <td>6.000000</td>\n",
              "    </tr>\n",
              "    <tr>\n",
              "      <th>hour</th>\n",
              "      <td>39210.000000</td>\n",
              "      <td>13.477480</td>\n",
              "      <td>6.519590</td>\n",
              "      <td>0.000000</td>\n",
              "      <td>9.000000</td>\n",
              "      <td>14.000000</td>\n",
              "      <td>19.000000</td>\n",
              "      <td>23.000000</td>\n",
              "    </tr>\n",
              "    <tr>\n",
              "      <th>day</th>\n",
              "      <td>39210.000000</td>\n",
              "      <td>15.694058</td>\n",
              "      <td>8.683399</td>\n",
              "      <td>1.000000</td>\n",
              "      <td>8.000000</td>\n",
              "      <td>16.000000</td>\n",
              "      <td>23.000000</td>\n",
              "      <td>31.000000</td>\n",
              "    </tr>\n",
              "    <tr>\n",
              "      <th>month</th>\n",
              "      <td>39210.000000</td>\n",
              "      <td>6.268707</td>\n",
              "      <td>3.457598</td>\n",
              "      <td>1.000000</td>\n",
              "      <td>3.000000</td>\n",
              "      <td>6.000000</td>\n",
              "      <td>9.000000</td>\n",
              "      <td>12.000000</td>\n",
              "    </tr>\n",
              "    <tr>\n",
              "      <th>year</th>\n",
              "      <td>39210.000000</td>\n",
              "      <td>2011.745728</td>\n",
              "      <td>1.862271</td>\n",
              "      <td>2009.000000</td>\n",
              "      <td>2010.000000</td>\n",
              "      <td>2012.000000</td>\n",
              "      <td>2013.000000</td>\n",
              "      <td>2015.000000</td>\n",
              "    </tr>\n",
              "    <tr>\n",
              "      <th>dayofweek</th>\n",
              "      <td>39210.000000</td>\n",
              "      <td>3.035323</td>\n",
              "      <td>1.957427</td>\n",
              "      <td>0.000000</td>\n",
              "      <td>1.000000</td>\n",
              "      <td>3.000000</td>\n",
              "      <td>5.000000</td>\n",
              "      <td>6.000000</td>\n",
              "    </tr>\n",
              "    <tr>\n",
              "      <th>travel_dist_km</th>\n",
              "      <td>39209.000000</td>\n",
              "      <td>17.988426</td>\n",
              "      <td>348.668187</td>\n",
              "      <td>0.000000</td>\n",
              "      <td>1.225156</td>\n",
              "      <td>2.121676</td>\n",
              "      <td>3.888813</td>\n",
              "      <td>8667.572331</td>\n",
              "    </tr>\n",
              "  </tbody>\n",
              "</table>\n",
              "</div>\n",
              "      <button class=\"colab-df-convert\" onclick=\"convertToInteractive('df-7af87922-6983-4a90-b94b-ee2e4e66857f')\"\n",
              "              title=\"Convert this dataframe to an interactive table.\"\n",
              "              style=\"display:none;\">\n",
              "        \n",
              "  <svg xmlns=\"http://www.w3.org/2000/svg\" height=\"24px\"viewBox=\"0 0 24 24\"\n",
              "       width=\"24px\">\n",
              "    <path d=\"M0 0h24v24H0V0z\" fill=\"none\"/>\n",
              "    <path d=\"M18.56 5.44l.94 2.06.94-2.06 2.06-.94-2.06-.94-.94-2.06-.94 2.06-2.06.94zm-11 1L8.5 8.5l.94-2.06 2.06-.94-2.06-.94L8.5 2.5l-.94 2.06-2.06.94zm10 10l.94 2.06.94-2.06 2.06-.94-2.06-.94-.94-2.06-.94 2.06-2.06.94z\"/><path d=\"M17.41 7.96l-1.37-1.37c-.4-.4-.92-.59-1.43-.59-.52 0-1.04.2-1.43.59L10.3 9.45l-7.72 7.72c-.78.78-.78 2.05 0 2.83L4 21.41c.39.39.9.59 1.41.59.51 0 1.02-.2 1.41-.59l7.78-7.78 2.81-2.81c.8-.78.8-2.07 0-2.86zM5.41 20L4 18.59l7.72-7.72 1.47 1.35L5.41 20z\"/>\n",
              "  </svg>\n",
              "      </button>\n",
              "      \n",
              "  <style>\n",
              "    .colab-df-container {\n",
              "      display:flex;\n",
              "      flex-wrap:wrap;\n",
              "      gap: 12px;\n",
              "    }\n",
              "\n",
              "    .colab-df-convert {\n",
              "      background-color: #E8F0FE;\n",
              "      border: none;\n",
              "      border-radius: 50%;\n",
              "      cursor: pointer;\n",
              "      display: none;\n",
              "      fill: #1967D2;\n",
              "      height: 32px;\n",
              "      padding: 0 0 0 0;\n",
              "      width: 32px;\n",
              "    }\n",
              "\n",
              "    .colab-df-convert:hover {\n",
              "      background-color: #E2EBFA;\n",
              "      box-shadow: 0px 1px 2px rgba(60, 64, 67, 0.3), 0px 1px 3px 1px rgba(60, 64, 67, 0.15);\n",
              "      fill: #174EA6;\n",
              "    }\n",
              "\n",
              "    [theme=dark] .colab-df-convert {\n",
              "      background-color: #3B4455;\n",
              "      fill: #D2E3FC;\n",
              "    }\n",
              "\n",
              "    [theme=dark] .colab-df-convert:hover {\n",
              "      background-color: #434B5C;\n",
              "      box-shadow: 0px 1px 3px 1px rgba(0, 0, 0, 0.15);\n",
              "      filter: drop-shadow(0px 1px 2px rgba(0, 0, 0, 0.3));\n",
              "      fill: #FFFFFF;\n",
              "    }\n",
              "  </style>\n",
              "\n",
              "      <script>\n",
              "        const buttonEl =\n",
              "          document.querySelector('#df-7af87922-6983-4a90-b94b-ee2e4e66857f button.colab-df-convert');\n",
              "        buttonEl.style.display =\n",
              "          google.colab.kernel.accessAllowed ? 'block' : 'none';\n",
              "\n",
              "        async function convertToInteractive(key) {\n",
              "          const element = document.querySelector('#df-7af87922-6983-4a90-b94b-ee2e4e66857f');\n",
              "          const dataTable =\n",
              "            await google.colab.kernel.invokeFunction('convertToInteractive',\n",
              "                                                     [key], {});\n",
              "          if (!dataTable) return;\n",
              "\n",
              "          const docLinkHtml = 'Like what you see? Visit the ' +\n",
              "            '<a target=\"_blank\" href=https://colab.research.google.com/notebooks/data_table.ipynb>data table notebook</a>'\n",
              "            + ' to learn more about interactive tables.';\n",
              "          element.innerHTML = '';\n",
              "          dataTable['output_type'] = 'display_data';\n",
              "          await google.colab.output.renderOutput(dataTable, element);\n",
              "          const docLink = document.createElement('div');\n",
              "          docLink.innerHTML = docLinkHtml;\n",
              "          element.appendChild(docLink);\n",
              "        }\n",
              "      </script>\n",
              "    </div>\n",
              "  </div>\n",
              "  "
            ]
          },
          "metadata": {},
          "execution_count": 17
        }
      ],
      "source": [
        "# the describe() returns the statistical summary of the variables\n",
        "# by default, it returns the summary of numerical variables\n",
        "# use .transpose() for better readability. However it is optional\n",
        "df_taxi.describe().transpose()"
      ]
    },
    {
      "cell_type": "markdown",
      "metadata": {
        "id": "AN0NNyi8zZ3T"
      },
      "source": [
        "<table align=\"left\">\n",
        "    <tr>\n",
        "        <td width=\"8%\">\n",
        "            <img src=\"infer.png\">\n",
        "        </td>\n",
        "        <td>\n",
        "            <div align=\"left\", style=\"font-size:120%\">\n",
        "                <font color=\"#21618C\">\n",
        "<b>The above output illustrates the summary statistics of all the numeric variables like mean, median (50%), standard deviation, minimum, and maximum values, along with the first and third quantiles.<br><br> \n",
        " <br><br>Note that the minimum amount is -5 and maximum is 200. Ideally fare amount should not be less that 2.5 dollars, which is the minimum value set for fares in NYC. Also the minimum count of passengers is 0, which isn't a practical scenario. We will deal with such values as we progress the case study.\n",
        "    </b>     </font>\n",
        "            </div>\n",
        "        </td>\n",
        "    </tr>\n",
        "</table>"
      ]
    },
    {
      "cell_type": "markdown",
      "metadata": {
        "id": "FzJ-O765zZ3U"
      },
      "source": [
        "**2. For categorical variables, use the describe(include='object').**"
      ]
    },
    {
      "cell_type": "markdown",
      "metadata": {
        "id": "8nh0CG9IzZ3U"
      },
      "source": [
        "As, there are no categorical varaibles, we skip this step."
      ]
    },
    {
      "cell_type": "markdown",
      "metadata": {
        "id": "ZPe2O6etzZ3U"
      },
      "source": [
        "<a id='outlier'></a>\n",
        "### 4.1.4 Discover Outliers"
      ]
    },
    {
      "cell_type": "markdown",
      "metadata": {
        "id": "rv_JBRXxeboi"
      },
      "source": [
        "#### Importance of detecting an outlier\n",
        "An outlier is an observation that appears to deviate distinctly from other observations in the data. If the outliers are not removed, the model accuracy may decrease.\n",
        "Let us detect the extreme values in the data. \n",
        "\n",
        "\n",
        "The following can be considered as outliers in this case study:\n",
        "1. Amount < 2.5\n",
        "2. Trips with travel distance less than or equal to 0, and more than 130Kms\n",
        "3. Trips where 90< latitude <-90, 180 < longitude < -180                     "
      ]
    },
    {
      "cell_type": "markdown",
      "metadata": {
        "id": "qcH3PDBNzZ3V"
      },
      "source": [
        "1. We have seen that there are instances of amount less that 0 as well in the data set, where as the minimum fare for any trip in NYC is 2.5 dollars, hence we will remove such observations. We have already seen that the max fare is 200 in the data set."
      ]
    },
    {
      "cell_type": "code",
      "execution_count": 18,
      "metadata": {
        "collapsed": true,
        "id": "8db_9MY8zZ3V"
      },
      "outputs": [],
      "source": [
        "#We will only keep the observation where fare is between 2.5\n",
        "df_taxi = df_taxi.loc[(df_taxi.amount >= 2.5)]"
      ]
    },
    {
      "cell_type": "code",
      "execution_count": 19,
      "metadata": {
        "colab": {
          "base_uri": "https://localhost:8080/"
        },
        "id": "JvoftLI3zZ3V",
        "outputId": "325b6630-715f-449b-8cc7-725f2d599d41"
      },
      "outputs": [
        {
          "output_type": "stream",
          "name": "stdout",
          "text": [
            "Remaining observastions in the dataset: (39202, 12)\n"
          ]
        }
      ],
      "source": [
        "print(\"Remaining observastions in the dataset:\", df_taxi.shape)"
      ]
    },
    {
      "cell_type": "markdown",
      "metadata": {
        "id": "c5UY8gVbzZ3V"
      },
      "source": [
        "2. Remove the observations with travel distance more than 130 kms.As seen from descriptive stats there are obs with tarvel distance more than 130 km, as that is the limit for trips in and around NYC"
      ]
    },
    {
      "cell_type": "code",
      "execution_count": 20,
      "metadata": {
        "colab": {
          "base_uri": "https://localhost:8080/"
        },
        "id": "dVp7_C5azZ3V",
        "outputId": "b9dedbce-cce4-496c-adb3-410930885a3b"
      },
      "outputs": [
        {
          "output_type": "stream",
          "name": "stdout",
          "text": [
            "Remaining observastions in the dataset: (39201, 12)\n"
          ]
        }
      ],
      "source": [
        "#We will only keep the observation where travel distance is less than or equal to 130\n",
        "df_taxi = df_taxi.loc[(df_taxi.travel_dist_km >= 1) | (df_taxi.travel_dist_km <= 130)]\n",
        "print(\"Remaining observastions in the dataset:\", df_taxi.shape)"
      ]
    },
    {
      "cell_type": "markdown",
      "metadata": {
        "id": "RzK_k-_SzZ3W"
      },
      "source": [
        "3. Remove the observations with unreal longitude and latitude values , that is , 90< latitude <-90, 180 < longitude < -180."
      ]
    },
    {
      "cell_type": "code",
      "execution_count": 21,
      "metadata": {
        "collapsed": true,
        "id": "dUz4zloSzZ3W"
      },
      "outputs": [],
      "source": [
        "incorrect_coordinates = df_taxi.loc[(df_taxi.latitude_of_pickup > 90) |(df_taxi.latitude_of_pickup < -90) |\n",
        "                                   (df_taxi.latitude_of_dropoff > 90) |(df_taxi.latitude_of_dropoff < -90) |\n",
        "                                   (df_taxi.longitude_of_pickup > 180) |(df_taxi.longitude_of_pickup < -180) |\n",
        "                                   (df_taxi.longitude_of_dropoff > 90) |(df_taxi.longitude_of_dropoff < -90)\n",
        "                                    ].index"
      ]
    },
    {
      "cell_type": "code",
      "execution_count": 22,
      "metadata": {
        "collapsed": true,
        "id": "XipibDiozZ3W"
      },
      "outputs": [],
      "source": [
        "df_taxi.drop(incorrect_coordinates, inplace = True, errors = 'ignore')"
      ]
    },
    {
      "cell_type": "code",
      "execution_count": 23,
      "metadata": {
        "colab": {
          "base_uri": "https://localhost:8080/"
        },
        "id": "46iHQiRGzZ3W",
        "outputId": "26715461-9564-4776-a6d6-0c4931115196"
      },
      "outputs": [
        {
          "output_type": "stream",
          "name": "stdout",
          "text": [
            "Remaining observastions in the dataset: (39200, 12)\n"
          ]
        }
      ],
      "source": [
        "print(\"Remaining observastions in the dataset:\", df_taxi.shape)"
      ]
    },
    {
      "cell_type": "markdown",
      "metadata": {
        "id": "0GcMduYmzZ3X"
      },
      "source": [
        "<table align=\"left\">\n",
        "    <tr>\n",
        "        <td width=\"8%\">\n",
        "            <img src=\"infer.png\">\n",
        "        </td>\n",
        "        <td>\n",
        "            <div align=\"left\", style=\"font-size:120%\">\n",
        "                <font color=\"#21618C\">\n",
        "                    <b> The number of observations is reduced to 48455 from 50000 which suggests that we have removed the observations with extreme or immpractical values.\n",
        "                    </b>   \n",
        "                </font>\n",
        "            </div>\n",
        "        </td>\n",
        "    </tr>\n",
        "</table>\n",
        "\n"
      ]
    },
    {
      "cell_type": "markdown",
      "metadata": {
        "id": "BudwXJ6Kebou"
      },
      "source": [
        "<table align=\"left\">\n",
        "    <tr>\n",
        "        <td width=\"8%\">\n",
        "            <img src=\"alsoreadicon.png\">\n",
        "        </td>\n",
        "        <td>\n",
        "            <div align=\"left\", style=\"font-size:120%\">\n",
        "                <font color=\"#21618C\">\n",
        "                    <b>I love to know more:  </b><a href=\"https://bit.ly/33bgNpq\">How to use statistics to identify outliers in data</a>\n",
        "</font>\n",
        "            </div>\n",
        "        </td>\n",
        "    </tr>\n",
        "</table>"
      ]
    },
    {
      "cell_type": "markdown",
      "metadata": {
        "id": "lAOwq52hzZ3X"
      },
      "source": [
        "<a id='Missing_Values'></a>\n",
        "### 4.1.5 Missing Values\n",
        "\n",
        "If the missing values are not handled properly we may end up drawing an inaccurate inference about the data."
      ]
    },
    {
      "cell_type": "markdown",
      "metadata": {
        "id": "P2V3H609zZ3X"
      },
      "source": [
        "In order to get the count of missing values in each column.<br><br>\n",
        "                        <ol type=\"1\"><li>Check the missing values</li>\n",
        "                            <li>Visualize missing values using heatmap</li>\n",
        "                            <li>Handle missing values\n",
        "                            <ul type=\"i\">\n",
        "                                <li>For numeric variables</li>\n",
        "                                <li> For categoric variables</li>\n",
        "                            </ul>\n",
        "                        </ol>  </b>\n",
        "                </font>\n",
        "            </div>\n",
        "        </td>\n",
        "    </tr>\n",
        "</table>"
      ]
    },
    {
      "cell_type": "markdown",
      "metadata": {
        "id": "wyCyljdezZ3Y"
      },
      "source": [
        "**1. Check the missing values**"
      ]
    },
    {
      "cell_type": "code",
      "execution_count": 24,
      "metadata": {
        "colab": {
          "base_uri": "https://localhost:8080/",
          "height": 426
        },
        "id": "CsPM1cBRzZ3Y",
        "outputId": "fe5d36a9-1238-47c5-ca38-a9514db66b02"
      },
      "outputs": [
        {
          "output_type": "execute_result",
          "data": {
            "text/plain": [
              "                      Total  Percentage of Missing Values     Type\n",
              "amount                    0                      0.000000  float64\n",
              "longitude_of_pickup       0                      0.000000  float64\n",
              "latitude_of_pickup        0                      0.000000  float64\n",
              "longitude_of_dropoff      0                      0.000000  float64\n",
              "latitude_of_dropoff       0                      0.000000  float64\n",
              "no_of_passenger           0                      0.000000  float64\n",
              "hour                      0                      0.000000    int64\n",
              "day                       0                      0.000000    int64\n",
              "month                     0                      0.000000    int64\n",
              "year                      0                      0.000000    int64\n",
              "dayofweek                 0                      0.000000    int64\n",
              "travel_dist_km            0                      0.000000  float64"
            ],
            "text/html": [
              "\n",
              "  <div id=\"df-b532a08d-c238-4c5d-bb9b-c5dba056c9e8\">\n",
              "    <div class=\"colab-df-container\">\n",
              "      <div>\n",
              "<style scoped>\n",
              "    .dataframe tbody tr th:only-of-type {\n",
              "        vertical-align: middle;\n",
              "    }\n",
              "\n",
              "    .dataframe tbody tr th {\n",
              "        vertical-align: top;\n",
              "    }\n",
              "\n",
              "    .dataframe thead th {\n",
              "        text-align: right;\n",
              "    }\n",
              "</style>\n",
              "<table border=\"1\" class=\"dataframe\">\n",
              "  <thead>\n",
              "    <tr style=\"text-align: right;\">\n",
              "      <th></th>\n",
              "      <th>Total</th>\n",
              "      <th>Percentage of Missing Values</th>\n",
              "      <th>Type</th>\n",
              "    </tr>\n",
              "  </thead>\n",
              "  <tbody>\n",
              "    <tr>\n",
              "      <th>amount</th>\n",
              "      <td>0</td>\n",
              "      <td>0.000000</td>\n",
              "      <td>float64</td>\n",
              "    </tr>\n",
              "    <tr>\n",
              "      <th>longitude_of_pickup</th>\n",
              "      <td>0</td>\n",
              "      <td>0.000000</td>\n",
              "      <td>float64</td>\n",
              "    </tr>\n",
              "    <tr>\n",
              "      <th>latitude_of_pickup</th>\n",
              "      <td>0</td>\n",
              "      <td>0.000000</td>\n",
              "      <td>float64</td>\n",
              "    </tr>\n",
              "    <tr>\n",
              "      <th>longitude_of_dropoff</th>\n",
              "      <td>0</td>\n",
              "      <td>0.000000</td>\n",
              "      <td>float64</td>\n",
              "    </tr>\n",
              "    <tr>\n",
              "      <th>latitude_of_dropoff</th>\n",
              "      <td>0</td>\n",
              "      <td>0.000000</td>\n",
              "      <td>float64</td>\n",
              "    </tr>\n",
              "    <tr>\n",
              "      <th>no_of_passenger</th>\n",
              "      <td>0</td>\n",
              "      <td>0.000000</td>\n",
              "      <td>float64</td>\n",
              "    </tr>\n",
              "    <tr>\n",
              "      <th>hour</th>\n",
              "      <td>0</td>\n",
              "      <td>0.000000</td>\n",
              "      <td>int64</td>\n",
              "    </tr>\n",
              "    <tr>\n",
              "      <th>day</th>\n",
              "      <td>0</td>\n",
              "      <td>0.000000</td>\n",
              "      <td>int64</td>\n",
              "    </tr>\n",
              "    <tr>\n",
              "      <th>month</th>\n",
              "      <td>0</td>\n",
              "      <td>0.000000</td>\n",
              "      <td>int64</td>\n",
              "    </tr>\n",
              "    <tr>\n",
              "      <th>year</th>\n",
              "      <td>0</td>\n",
              "      <td>0.000000</td>\n",
              "      <td>int64</td>\n",
              "    </tr>\n",
              "    <tr>\n",
              "      <th>dayofweek</th>\n",
              "      <td>0</td>\n",
              "      <td>0.000000</td>\n",
              "      <td>int64</td>\n",
              "    </tr>\n",
              "    <tr>\n",
              "      <th>travel_dist_km</th>\n",
              "      <td>0</td>\n",
              "      <td>0.000000</td>\n",
              "      <td>float64</td>\n",
              "    </tr>\n",
              "  </tbody>\n",
              "</table>\n",
              "</div>\n",
              "      <button class=\"colab-df-convert\" onclick=\"convertToInteractive('df-b532a08d-c238-4c5d-bb9b-c5dba056c9e8')\"\n",
              "              title=\"Convert this dataframe to an interactive table.\"\n",
              "              style=\"display:none;\">\n",
              "        \n",
              "  <svg xmlns=\"http://www.w3.org/2000/svg\" height=\"24px\"viewBox=\"0 0 24 24\"\n",
              "       width=\"24px\">\n",
              "    <path d=\"M0 0h24v24H0V0z\" fill=\"none\"/>\n",
              "    <path d=\"M18.56 5.44l.94 2.06.94-2.06 2.06-.94-2.06-.94-.94-2.06-.94 2.06-2.06.94zm-11 1L8.5 8.5l.94-2.06 2.06-.94-2.06-.94L8.5 2.5l-.94 2.06-2.06.94zm10 10l.94 2.06.94-2.06 2.06-.94-2.06-.94-.94-2.06-.94 2.06-2.06.94z\"/><path d=\"M17.41 7.96l-1.37-1.37c-.4-.4-.92-.59-1.43-.59-.52 0-1.04.2-1.43.59L10.3 9.45l-7.72 7.72c-.78.78-.78 2.05 0 2.83L4 21.41c.39.39.9.59 1.41.59.51 0 1.02-.2 1.41-.59l7.78-7.78 2.81-2.81c.8-.78.8-2.07 0-2.86zM5.41 20L4 18.59l7.72-7.72 1.47 1.35L5.41 20z\"/>\n",
              "  </svg>\n",
              "      </button>\n",
              "      \n",
              "  <style>\n",
              "    .colab-df-container {\n",
              "      display:flex;\n",
              "      flex-wrap:wrap;\n",
              "      gap: 12px;\n",
              "    }\n",
              "\n",
              "    .colab-df-convert {\n",
              "      background-color: #E8F0FE;\n",
              "      border: none;\n",
              "      border-radius: 50%;\n",
              "      cursor: pointer;\n",
              "      display: none;\n",
              "      fill: #1967D2;\n",
              "      height: 32px;\n",
              "      padding: 0 0 0 0;\n",
              "      width: 32px;\n",
              "    }\n",
              "\n",
              "    .colab-df-convert:hover {\n",
              "      background-color: #E2EBFA;\n",
              "      box-shadow: 0px 1px 2px rgba(60, 64, 67, 0.3), 0px 1px 3px 1px rgba(60, 64, 67, 0.15);\n",
              "      fill: #174EA6;\n",
              "    }\n",
              "\n",
              "    [theme=dark] .colab-df-convert {\n",
              "      background-color: #3B4455;\n",
              "      fill: #D2E3FC;\n",
              "    }\n",
              "\n",
              "    [theme=dark] .colab-df-convert:hover {\n",
              "      background-color: #434B5C;\n",
              "      box-shadow: 0px 1px 3px 1px rgba(0, 0, 0, 0.15);\n",
              "      filter: drop-shadow(0px 1px 2px rgba(0, 0, 0, 0.3));\n",
              "      fill: #FFFFFF;\n",
              "    }\n",
              "  </style>\n",
              "\n",
              "      <script>\n",
              "        const buttonEl =\n",
              "          document.querySelector('#df-b532a08d-c238-4c5d-bb9b-c5dba056c9e8 button.colab-df-convert');\n",
              "        buttonEl.style.display =\n",
              "          google.colab.kernel.accessAllowed ? 'block' : 'none';\n",
              "\n",
              "        async function convertToInteractive(key) {\n",
              "          const element = document.querySelector('#df-b532a08d-c238-4c5d-bb9b-c5dba056c9e8');\n",
              "          const dataTable =\n",
              "            await google.colab.kernel.invokeFunction('convertToInteractive',\n",
              "                                                     [key], {});\n",
              "          if (!dataTable) return;\n",
              "\n",
              "          const docLinkHtml = 'Like what you see? Visit the ' +\n",
              "            '<a target=\"_blank\" href=https://colab.research.google.com/notebooks/data_table.ipynb>data table notebook</a>'\n",
              "            + ' to learn more about interactive tables.';\n",
              "          element.innerHTML = '';\n",
              "          dataTable['output_type'] = 'display_data';\n",
              "          await google.colab.output.renderOutput(dataTable, element);\n",
              "          const docLink = document.createElement('div');\n",
              "          docLink.innerHTML = docLinkHtml;\n",
              "          element.appendChild(docLink);\n",
              "        }\n",
              "      </script>\n",
              "    </div>\n",
              "  </div>\n",
              "  "
            ]
          },
          "metadata": {},
          "execution_count": 24
        }
      ],
      "source": [
        "# sort the variables on the basis of total null values in the variable\n",
        "# 'isnull().sum()' returns the number of missing values in each variable\n",
        "# 'ascending = False' sorts values in the descending order\n",
        "# the variable with highest number of missing values will appear first\n",
        "Total = df_taxi.isnull().sum().sort_values(ascending = False)          \n",
        "\n",
        "# calculate the percentage of missing values\n",
        "# 'ascending = False' sorts values in the descending order\n",
        "# the variable with highest percentage of missing values will appear first\n",
        "Percent = (df_taxi.isnull().sum()*100/df_taxi.isnull().count()).sort_values(ascending = False)   \n",
        "\n",
        "# concat the 'Total' and 'Percent' columns using 'concat' function\n",
        "# 'keys' is the list of column names\n",
        "# 'axis = 1' concats along the columns\n",
        "missing_data = pd.concat([Total, Percent], axis = 1, keys = ['Total', 'Percentage of Missing Values'])    \n",
        "\n",
        "# add the column containing data type of each variable\n",
        "missing_data['Type'] = df_taxi[missing_data.index].dtypes\n",
        "missing_data"
      ]
    },
    {
      "cell_type": "markdown",
      "metadata": {
        "id": "PIEi_D7hzZ3Y"
      },
      "source": [
        "<table align=\"left\">\n",
        "    <tr>\n",
        "        <td width=\"8%\">\n",
        "            <img src=\"infer.png\">\n",
        "        </td>\n",
        "        <td>\n",
        "            <div align=\"left\", style=\"font-size:120%\">\n",
        "                <font color=\"#21618C\">\n",
        "                    <b>None of the variables contain missing values.</b>\n",
        "                </font>\n",
        "            </div>\n",
        "        </td>\n",
        "    </tr>\n",
        "</table>"
      ]
    },
    {
      "cell_type": "markdown",
      "metadata": {
        "id": "nDePZwUbzZ3Y"
      },
      "source": [
        "**2. Visualize missing values using heatmap**"
      ]
    },
    {
      "cell_type": "code",
      "execution_count": 25,
      "metadata": {
        "colab": {
          "base_uri": "https://localhost:8080/",
          "height": 580
        },
        "id": "Vgv5ElekzZ3Y",
        "outputId": "db056e2e-ece0-4c8b-8109-e98d3b2340a4",
        "scrolled": false
      },
      "outputs": [
        {
          "output_type": "display_data",
          "data": {
            "text/plain": [
              "<Figure size 1080x576 with 1 Axes>"
            ],
            "image/png": "[encoded data removed]"
          },
          "metadata": {
            "needs_background": "light"
          }
        }
      ],
      "source": [
        "# plot heatmap to visualize the null values in each column\n",
        "# 'cbar = False' does not show the color axis \n",
        "sns.heatmap(df_taxi.isnull(), cbar=False)\n",
        "\n",
        "# display the plot\n",
        "plt.show()"
      ]
    },
    {
      "cell_type": "markdown",
      "metadata": {
        "id": "sOp-RiL8zZ3Z"
      },
      "source": [
        "If there are missing values in a dataset then the horizontal lines in the heatmap correspond to the missing values. Since there are no missing values here there are no horizontal lines corresponding to them."
      ]
    },
    {
      "cell_type": "markdown",
      "metadata": {
        "id": "Dogz55FZeboP"
      },
      "source": [
        "<table align=\"left\">\n",
        "    <tr>\n",
        "        <td width=\"8%\">\n",
        "            <img src=\"infer.png\">\n",
        "        </td>\n",
        "        <td>\n",
        "            <div align=\"left\", style=\"font-size:120%\">\n",
        "                <font color=\"#21618C\">\n",
        "                    <b> The above plot shows that there are no missing values in the data.</b>\n",
        "                </font>\n",
        "            </div>\n",
        "        </td>\n",
        "    </tr>\n",
        "</table>"
      ]
    },
    {
      "cell_type": "markdown",
      "metadata": {
        "id": "Q_5HKjl_zZ3Z"
      },
      "source": [
        "<a id='correlation'></a>\n",
        "### 4.1.6 Study correlation"
      ]
    },
    {
      "cell_type": "markdown",
      "metadata": {
        "id": "K_oo8YEAeboS"
      },
      "source": [
        "Correlation is a statistic that measures the degree to which two variables move with each other. A correlation coefficient near  1  indicates the strong relationship between them; a weak correlation indicates the extent to which one variable increases as the other decreases. Correlation among multiple variables can be represented in the form of a matrix. This allows us to see which variables are correlated."
      ]
    },
    {
      "cell_type": "markdown",
      "metadata": {
        "id": "sAagGX-keboT"
      },
      "source": [
        "<table align=\"left\">\n",
        "    <tr>\n",
        "        <td width=\"8%\">\n",
        "            <img src=\"todo.png\">\n",
        "        </td>\n",
        "        <td>\n",
        "            <div align=\"left\", style=\"font-size:120%\">\n",
        "                <font color=\"#21618C\">\n",
        "                    <b> To check the correlation between numerical variables, we perform the following steps:<br><br>\n",
        "                    1. Compute a correlation matrix  <br>\n",
        "                    2. Plot a heatmap for the correlation matrix\n",
        "                    </b>\n",
        "                </font>\n",
        "            </div>\n",
        "        </td>\n",
        "    </tr>\n",
        "</table>"
      ]
    },
    {
      "cell_type": "markdown",
      "metadata": {
        "id": "TjY60dBezZ3Z"
      },
      "source": [
        "**1. Compute a correlation matrix**"
      ]
    },
    {
      "cell_type": "code",
      "execution_count": 26,
      "metadata": {
        "colab": {
          "base_uri": "https://localhost:8080/",
          "height": 0
        },
        "id": "kydgRUB-zZ3a",
        "outputId": "e0479cbe-d5a2-4d64-8305-3b48cbd15ce8"
      },
      "outputs": [
        {
          "output_type": "execute_result",
          "data": {
            "text/plain": [
              "                        amount  longitude_of_pickup  latitude_of_pickup  \\\n",
              "amount                1.000000             0.009269           -0.010143   \n",
              "longitude_of_pickup   0.009269             1.000000           -0.982528   \n",
              "latitude_of_pickup   -0.010143            -0.982528            1.000000   \n",
              "longitude_of_dropoff  0.007268             0.958349           -0.944228   \n",
              "latitude_of_dropoff  -0.008658            -0.947828            0.963639   \n",
              "no_of_passenger       0.018324            -0.010001            0.008816   \n",
              "hour                 -0.021913             0.002185           -0.001635   \n",
              "day                  -0.000668             0.003325           -0.006623   \n",
              "month                 0.027974             0.000742            0.000330   \n",
              "year                  0.118495            -0.001376           -0.001117   \n",
              "dayofweek            -0.000324            -0.002478            0.001068   \n",
              "travel_dist_km        0.017990             0.132559           -0.119969   \n",
              "\n",
              "                      longitude_of_dropoff  latitude_of_dropoff  \\\n",
              "amount                            0.007268            -0.008658   \n",
              "longitude_of_pickup               0.958349            -0.947828   \n",
              "latitude_of_pickup               -0.944228             0.963639   \n",
              "longitude_of_dropoff              1.000000            -0.980021   \n",
              "latitude_of_dropoff              -0.980021             1.000000   \n",
              "no_of_passenger                  -0.009287             0.007972   \n",
              "hour                              0.001386             0.000043   \n",
              "day                               0.003011            -0.006342   \n",
              "month                             0.001204            -0.000316   \n",
              "year                             -0.000265            -0.001954   \n",
              "dayofweek                        -0.001873             0.000708   \n",
              "travel_dist_km                    0.146580            -0.126796   \n",
              "\n",
              "                      no_of_passenger      hour       day     month      year  \\\n",
              "amount                       0.018324 -0.021913 -0.000668  0.027974  0.118495   \n",
              "longitude_of_pickup         -0.010001  0.002185  0.003325  0.000742 -0.001376   \n",
              "latitude_of_pickup           0.008816 -0.001635 -0.006623  0.000330 -0.001117   \n",
              "longitude_of_dropoff        -0.009287  0.001386  0.003011  0.001204 -0.000265   \n",
              "latitude_of_dropoff          0.007972  0.000043 -0.006342 -0.000316 -0.001954   \n",
              "no_of_passenger              1.000000  0.011078  0.009194  0.008824  0.009032   \n",
              "hour                         0.011078  1.000000 -0.008587 -0.000408  0.002623   \n",
              "day                          0.009194 -0.008587  1.000000 -0.013972 -0.010349   \n",
              "month                        0.008824 -0.000408 -0.013972  1.000000 -0.117697   \n",
              "year                         0.009032  0.002623 -0.010349 -0.117697  1.000000   \n",
              "dayofweek                    0.042643 -0.088669  0.006688 -0.008608  0.005185   \n",
              "travel_dist_km              -0.008302  0.001383  0.010893 -0.010728  0.023720   \n",
              "\n",
              "                      dayofweek  travel_dist_km  \n",
              "amount                -0.000324        0.017990  \n",
              "longitude_of_pickup   -0.002478        0.132559  \n",
              "latitude_of_pickup     0.001068       -0.119969  \n",
              "longitude_of_dropoff  -0.001873        0.146580  \n",
              "latitude_of_dropoff    0.000708       -0.126796  \n",
              "no_of_passenger        0.042643       -0.008302  \n",
              "hour                  -0.088669        0.001383  \n",
              "day                    0.006688        0.010893  \n",
              "month                 -0.008608       -0.010728  \n",
              "year                   0.005185        0.023720  \n",
              "dayofweek              1.000000       -0.002722  \n",
              "travel_dist_km        -0.002722        1.000000  "
            ],
            "text/html": [
              "\n",
              "  <div id=\"df-07e9e856-c863-4b2b-b497-c658acbd526c\">\n",
              "    <div class=\"colab-df-container\">\n",
              "      <div>\n",
              "<style scoped>\n",
              "    .dataframe tbody tr th:only-of-type {\n",
              "        vertical-align: middle;\n",
              "    }\n",
              "\n",
              "    .dataframe tbody tr th {\n",
              "        vertical-align: top;\n",
              "    }\n",
              "\n",
              "    .dataframe thead th {\n",
              "        text-align: right;\n",
              "    }\n",
              "</style>\n",
              "<table border=\"1\" class=\"dataframe\">\n",
              "  <thead>\n",
              "    <tr style=\"text-align: right;\">\n",
              "      <th></th>\n",
              "      <th>amount</th>\n",
              "      <th>longitude_of_pickup</th>\n",
              "      <th>latitude_of_pickup</th>\n",
              "      <th>longitude_of_dropoff</th>\n",
              "      <th>latitude_of_dropoff</th>\n",
              "      <th>no_of_passenger</th>\n",
              "      <th>hour</th>\n",
              "      <th>day</th>\n",
              "      <th>month</th>\n",
              "      <th>year</th>\n",
              "      <th>dayofweek</th>\n",
              "      <th>travel_dist_km</th>\n",
              "    </tr>\n",
              "  </thead>\n",
              "  <tbody>\n",
              "    <tr>\n",
              "      <th>amount</th>\n",
              "      <td>1.000000</td>\n",
              "      <td>0.009269</td>\n",
              "      <td>-0.010143</td>\n",
              "      <td>0.007268</td>\n",
              "      <td>-0.008658</td>\n",
              "      <td>0.018324</td>\n",
              "      <td>-0.021913</td>\n",
              "      <td>-0.000668</td>\n",
              "      <td>0.027974</td>\n",
              "      <td>0.118495</td>\n",
              "      <td>-0.000324</td>\n",
              "      <td>0.017990</td>\n",
              "    </tr>\n",
              "    <tr>\n",
              "      <th>longitude_of_pickup</th>\n",
              "      <td>0.009269</td>\n",
              "      <td>1.000000</td>\n",
              "      <td>-0.982528</td>\n",
              "      <td>0.958349</td>\n",
              "      <td>-0.947828</td>\n",
              "      <td>-0.010001</td>\n",
              "      <td>0.002185</td>\n",
              "      <td>0.003325</td>\n",
              "      <td>0.000742</td>\n",
              "      <td>-0.001376</td>\n",
              "      <td>-0.002478</td>\n",
              "      <td>0.132559</td>\n",
              "    </tr>\n",
              "    <tr>\n",
              "      <th>latitude_of_pickup</th>\n",
              "      <td>-0.010143</td>\n",
              "      <td>-0.982528</td>\n",
              "      <td>1.000000</td>\n",
              "      <td>-0.944228</td>\n",
              "      <td>0.963639</td>\n",
              "      <td>0.008816</td>\n",
              "      <td>-0.001635</td>\n",
              "      <td>-0.006623</td>\n",
              "      <td>0.000330</td>\n",
              "      <td>-0.001117</td>\n",
              "      <td>0.001068</td>\n",
              "      <td>-0.119969</td>\n",
              "    </tr>\n",
              "    <tr>\n",
              "      <th>longitude_of_dropoff</th>\n",
              "      <td>0.007268</td>\n",
              "      <td>0.958349</td>\n",
              "      <td>-0.944228</td>\n",
              "      <td>1.000000</td>\n",
              "      <td>-0.980021</td>\n",
              "      <td>-0.009287</td>\n",
              "      <td>0.001386</td>\n",
              "      <td>0.003011</td>\n",
              "      <td>0.001204</td>\n",
              "      <td>-0.000265</td>\n",
              "      <td>-0.001873</td>\n",
              "      <td>0.146580</td>\n",
              "    </tr>\n",
              "    <tr>\n",
              "      <th>latitude_of_dropoff</th>\n",
              "      <td>-0.008658</td>\n",
              "      <td>-0.947828</td>\n",
              "      <td>0.963639</td>\n",
              "      <td>-0.980021</td>\n",
              "      <td>1.000000</td>\n",
              "      <td>0.007972</td>\n",
              "      <td>0.000043</td>\n",
              "      <td>-0.006342</td>\n",
              "      <td>-0.000316</td>\n",
              "      <td>-0.001954</td>\n",
              "      <td>0.000708</td>\n",
              "      <td>-0.126796</td>\n",
              "    </tr>\n",
              "    <tr>\n",
              "      <th>no_of_passenger</th>\n",
              "      <td>0.018324</td>\n",
              "      <td>-0.010001</td>\n",
              "      <td>0.008816</td>\n",
              "      <td>-0.009287</td>\n",
              "      <td>0.007972</td>\n",
              "      <td>1.000000</td>\n",
              "      <td>0.011078</td>\n",
              "      <td>0.009194</td>\n",
              "      <td>0.008824</td>\n",
              "      <td>0.009032</td>\n",
              "      <td>0.042643</td>\n",
              "      <td>-0.008302</td>\n",
              "    </tr>\n",
              "    <tr>\n",
              "      <th>hour</th>\n",
              "      <td>-0.021913</td>\n",
              "      <td>0.002185</td>\n",
              "      <td>-0.001635</td>\n",
              "      <td>0.001386</td>\n",
              "      <td>0.000043</td>\n",
              "      <td>0.011078</td>\n",
              "      <td>1.000000</td>\n",
              "      <td>-0.008587</td>\n",
              "      <td>-0.000408</td>\n",
              "      <td>0.002623</td>\n",
              "      <td>-0.088669</td>\n",
              "      <td>0.001383</td>\n",
              "    </tr>\n",
              "    <tr>\n",
              "      <th>day</th>\n",
              "      <td>-0.000668</td>\n",
              "      <td>0.003325</td>\n",
              "      <td>-0.006623</td>\n",
              "      <td>0.003011</td>\n",
              "      <td>-0.006342</td>\n",
              "      <td>0.009194</td>\n",
              "      <td>-0.008587</td>\n",
              "      <td>1.000000</td>\n",
              "      <td>-0.013972</td>\n",
              "      <td>-0.010349</td>\n",
              "      <td>0.006688</td>\n",
              "      <td>0.010893</td>\n",
              "    </tr>\n",
              "    <tr>\n",
              "      <th>month</th>\n",
              "      <td>0.027974</td>\n",
              "      <td>0.000742</td>\n",
              "      <td>0.000330</td>\n",
              "      <td>0.001204</td>\n",
              "      <td>-0.000316</td>\n",
              "      <td>0.008824</td>\n",
              "      <td>-0.000408</td>\n",
              "      <td>-0.013972</td>\n",
              "      <td>1.000000</td>\n",
              "      <td>-0.117697</td>\n",
              "      <td>-0.008608</td>\n",
              "      <td>-0.010728</td>\n",
              "    </tr>\n",
              "    <tr>\n",
              "      <th>year</th>\n",
              "      <td>0.118495</td>\n",
              "      <td>-0.001376</td>\n",
              "      <td>-0.001117</td>\n",
              "      <td>-0.000265</td>\n",
              "      <td>-0.001954</td>\n",
              "      <td>0.009032</td>\n",
              "      <td>0.002623</td>\n",
              "      <td>-0.010349</td>\n",
              "      <td>-0.117697</td>\n",
              "      <td>1.000000</td>\n",
              "      <td>0.005185</td>\n",
              "      <td>0.023720</td>\n",
              "    </tr>\n",
              "    <tr>\n",
              "      <th>dayofweek</th>\n",
              "      <td>-0.000324</td>\n",
              "      <td>-0.002478</td>\n",
              "      <td>0.001068</td>\n",
              "      <td>-0.001873</td>\n",
              "      <td>0.000708</td>\n",
              "      <td>0.042643</td>\n",
              "      <td>-0.088669</td>\n",
              "      <td>0.006688</td>\n",
              "      <td>-0.008608</td>\n",
              "      <td>0.005185</td>\n",
              "      <td>1.000000</td>\n",
              "      <td>-0.002722</td>\n",
              "    </tr>\n",
              "    <tr>\n",
              "      <th>travel_dist_km</th>\n",
              "      <td>0.017990</td>\n",
              "      <td>0.132559</td>\n",
              "      <td>-0.119969</td>\n",
              "      <td>0.146580</td>\n",
              "      <td>-0.126796</td>\n",
              "      <td>-0.008302</td>\n",
              "      <td>0.001383</td>\n",
              "      <td>0.010893</td>\n",
              "      <td>-0.010728</td>\n",
              "      <td>0.023720</td>\n",
              "      <td>-0.002722</td>\n",
              "      <td>1.000000</td>\n",
              "    </tr>\n",
              "  </tbody>\n",
              "</table>\n",
              "</div>\n",
              "      <button class=\"colab-df-convert\" onclick=\"convertToInteractive('df-07e9e856-c863-4b2b-b497-c658acbd526c')\"\n",
              "              title=\"Convert this dataframe to an interactive table.\"\n",
              "              style=\"display:none;\">\n",
              "        \n",
              "  <svg xmlns=\"http://www.w3.org/2000/svg\" height=\"24px\"viewBox=\"0 0 24 24\"\n",
              "       width=\"24px\">\n",
              "    <path d=\"M0 0h24v24H0V0z\" fill=\"none\"/>\n",
              "    <path d=\"M18.56 5.44l.94 2.06.94-2.06 2.06-.94-2.06-.94-.94-2.06-.94 2.06-2.06.94zm-11 1L8.5 8.5l.94-2.06 2.06-.94-2.06-.94L8.5 2.5l-.94 2.06-2.06.94zm10 10l.94 2.06.94-2.06 2.06-.94-2.06-.94-.94-2.06-.94 2.06-2.06.94z\"/><path d=\"M17.41 7.96l-1.37-1.37c-.4-.4-.92-.59-1.43-.59-.52 0-1.04.2-1.43.59L10.3 9.45l-7.72 7.72c-.78.78-.78 2.05 0 2.83L4 21.41c.39.39.9.59 1.41.59.51 0 1.02-.2 1.41-.59l7.78-7.78 2.81-2.81c.8-.78.8-2.07 0-2.86zM5.41 20L4 18.59l7.72-7.72 1.47 1.35L5.41 20z\"/>\n",
              "  </svg>\n",
              "      </button>\n",
              "      \n",
              "  <style>\n",
              "    .colab-df-container {\n",
              "      display:flex;\n",
              "      flex-wrap:wrap;\n",
              "      gap: 12px;\n",
              "    }\n",
              "\n",
              "    .colab-df-convert {\n",
              "      background-color: #E8F0FE;\n",
              "      border: none;\n",
              "      border-radius: 50%;\n",
              "      cursor: pointer;\n",
              "      display: none;\n",
              "      fill: #1967D2;\n",
              "      height: 32px;\n",
              "      padding: 0 0 0 0;\n",
              "      width: 32px;\n",
              "    }\n",
              "\n",
              "    .colab-df-convert:hover {\n",
              "      background-color: #E2EBFA;\n",
              "      box-shadow: 0px 1px 2px rgba(60, 64, 67, 0.3), 0px 1px 3px 1px rgba(60, 64, 67, 0.15);\n",
              "      fill: #174EA6;\n",
              "    }\n",
              "\n",
              "    [theme=dark] .colab-df-convert {\n",
              "      background-color: #3B4455;\n",
              "      fill: #D2E3FC;\n",
              "    }\n",
              "\n",
              "    [theme=dark] .colab-df-convert:hover {\n",
              "      background-color: #434B5C;\n",
              "      box-shadow: 0px 1px 3px 1px rgba(0, 0, 0, 0.15);\n",
              "      filter: drop-shadow(0px 1px 2px rgba(0, 0, 0, 0.3));\n",
              "      fill: #FFFFFF;\n",
              "    }\n",
              "  </style>\n",
              "\n",
              "      <script>\n",
              "        const buttonEl =\n",
              "          document.querySelector('#df-07e9e856-c863-4b2b-b497-c658acbd526c button.colab-df-convert');\n",
              "        buttonEl.style.display =\n",
              "          google.colab.kernel.accessAllowed ? 'block' : 'none';\n",
              "\n",
              "        async function convertToInteractive(key) {\n",
              "          const element = document.querySelector('#df-07e9e856-c863-4b2b-b497-c658acbd526c');\n",
              "          const dataTable =\n",
              "            await google.colab.kernel.invokeFunction('convertToInteractive',\n",
              "                                                     [key], {});\n",
              "          if (!dataTable) return;\n",
              "\n",
              "          const docLinkHtml = 'Like what you see? Visit the ' +\n",
              "            '<a target=\"_blank\" href=https://colab.research.google.com/notebooks/data_table.ipynb>data table notebook</a>'\n",
              "            + ' to learn more about interactive tables.';\n",
              "          element.innerHTML = '';\n",
              "          dataTable['output_type'] = 'display_data';\n",
              "          await google.colab.output.renderOutput(dataTable, element);\n",
              "          const docLink = document.createElement('div');\n",
              "          docLink.innerHTML = docLinkHtml;\n",
              "          element.appendChild(docLink);\n",
              "        }\n",
              "      </script>\n",
              "    </div>\n",
              "  </div>\n",
              "  "
            ]
          },
          "metadata": {},
          "execution_count": 26
        }
      ],
      "source": [
        "# use the corr() function to generate the correlation matrix of the numeric variables\n",
        "corr = df_taxi.corr()\n",
        "\n",
        "# print the correlation matrix\n",
        "corr"
      ]
    },
    {
      "cell_type": "markdown",
      "metadata": {
        "id": "ucVEZ25tzZ3a"
      },
      "source": [
        "**2. Plot the heatmap for the diagonal correlation matrix**"
      ]
    },
    {
      "cell_type": "markdown",
      "metadata": {
        "id": "H3__lG1nzZ3a"
      },
      "source": [
        "A correlation matrix is a symmetric matrix. Plot only the upper triangular entries using a heatmap."
      ]
    },
    {
      "cell_type": "code",
      "execution_count": 27,
      "metadata": {
        "colab": {
          "base_uri": "https://localhost:8080/",
          "height": 0
        },
        "id": "_ejcBWlTzZ3a",
        "outputId": "57c15c06-eab7-4b1e-9b9f-4174e949d126",
        "scrolled": false
      },
      "outputs": [
        {
          "output_type": "display_data",
          "data": {
            "text/plain": [
              "<Figure size 2880x1440 with 2 Axes>"
            ],
            "image/png": "[encoded data removed]"
          },
          "metadata": {
            "needs_background": "light"
          }
        }
      ],
      "source": [
        "# set the plot size\n",
        "# pass the required height and width to the parameter, 'figsize'  \n",
        "plt.figure(figsize = (40,20))\n",
        "\n",
        "# use 'mask' to plot a upper triangular correlation matrix \n",
        "# 'tril_indices_from' returns the indices for the lower-triangle of matrix\n",
        "# 'k = -1' consider the diagonal of the matrix\n",
        "mask = np.zeros_like(corr)\n",
        "mask[np.tril_indices_from(mask, k = -1)] = True\n",
        "\n",
        "# plot the heat map\n",
        "# corr: give the correlation matrix\n",
        "# cmap: color code used for plotting\n",
        "# vmax: gives a maximum range of values for the chart\n",
        "# vmin: gives a minimum range of values for the chart\n",
        "# annot: prints the correlation values in the chart\n",
        "# annot_kws: sets the font size of the annotation\n",
        "# mask: mask the upper traingular matrix values\n",
        "sns.heatmap(corr, cmap = 'RdYlGn', vmax = 1.0, vmin = -1.0, annot = True, annot_kws = {\"size\": 20}, mask = mask)\n",
        "\n",
        "# set the size of x and y axes labels\n",
        "# set text size using 'fontsize'\n",
        "plt.xticks(fontsize = 12)\n",
        "plt.yticks(fontsize = 15)\n",
        "\n",
        "# display the plot\n",
        "plt.show()"
      ]
    },
    {
      "cell_type": "markdown",
      "metadata": {
        "id": "JZnl4RlHzZ3b"
      },
      "source": [
        "<table align=\"left\">\n",
        "    <tr>\n",
        "        <td width=\"8%\">\n",
        "            <img src=\"infer.png\">\n",
        "        </td>\n",
        "        <td>\n",
        "            <div align=\"left\", style=\"font-size:120%\">\n",
        "                <font color=\"#21618C\">\n",
        "                    <b>The diagonal entries are all '1' which represents the correlation of the variable with itself. The dark green squares represent the variables with strong positive correlation. The dark red squares represent the variables with strong negative correlation. \n",
        "                    </b>\n",
        "                </font>\n",
        "            </div>\n",
        "        </td>\n",
        "    </tr>\n",
        "</table>\n"
      ]
    },
    {
      "cell_type": "markdown",
      "metadata": {
        "id": "wGSfdiCczZ3b"
      },
      "source": [
        "As the above correlation map is difficult to study. Create a heatmap that consider the variables with strong correlation."
      ]
    },
    {
      "cell_type": "code",
      "execution_count": 28,
      "metadata": {
        "colab": {
          "base_uri": "https://localhost:8080/",
          "height": 0
        },
        "id": "zZucNxEMzZ3b",
        "outputId": "ce64c8c7-aebf-456d-d72d-063be0c0326e"
      },
      "outputs": [
        {
          "output_type": "display_data",
          "data": {
            "text/plain": [
              "<Figure size 3600x1440 with 2 Axes>"
            ],
            "image/png": "[encoded data removed]"
          },
          "metadata": {
            "needs_background": "light"
          }
        }
      ],
      "source": [
        "# set figure size\n",
        "plt.figure(figsize=(50, 20))\n",
        "\n",
        "# plot the heat map\n",
        "# corr: give the correlation matrix\n",
        "# pass the condition to get the strong correlation between the variables\n",
        "# cmap: color code used for plotting\n",
        "# vmax: gives a maximum range of values for the chart\n",
        "# vmin: gives a minimum range of values for the chart\n",
        "# annot: prints the correlation values in the chart\n",
        "# annot_kws: sets the font size of the annotation\n",
        "#sns.set(font_scale=2)\n",
        "sns.heatmap(corr[(corr >= 0.7) | (corr <= -0.7)], cmap = 'RdYlGn', vmax = 1.0, vmin = -1.0, annot = True, \n",
        "            annot_kws={\"size\": 20})\n",
        "\n",
        "# set the size of x and y axes labels\n",
        "# set text size using 'fontsize'\n",
        "plt.xticks(fontsize = 15)\n",
        "plt.yticks(fontsize = 15)\n",
        "\n",
        "# display the plot\n",
        "plt.show()"
      ]
    },
    {
      "cell_type": "markdown",
      "metadata": {
        "id": "7-Mp2k6ezZ3b"
      },
      "source": [
        "<table align=\"left\">\n",
        "    <tr>\n",
        "        <td width=\"8%\">\n",
        "            <img src=\"infer.png\">\n",
        "        </td>\n",
        "        <td>\n",
        "            <div align=\"left\", style=\"font-size:120%\">\n",
        "                <font color=\"#21618C\">\n",
        "                    <b>The above plot shows that there is highest positive correlation (= 0.96) between the variables 'longitude_of_pickup' and 'longitude_of_dropoff'. Also there is strong positive correlation between the pair latitude_of_pickup and latitude_of_dropoff. These variables may be involved in multicollinearity.<br>\n",
        "                        Following variable pairs have strong negative correlation in the dataset(longitude_of_pickup,latitude_of_pickup), (latitude_of_dropoff,longitude_of_pickup),(longitude_of_dropoff,latitude_of_pickup) and (longitude_of_dropoff, latitude_of_dropoff).\n",
        "                    </b>\n",
        "                </font>\n",
        "            </div>\n",
        "        </td>\n",
        "    </tr>\n",
        "</table>\n"
      ]
    },
    {
      "cell_type": "markdown",
      "metadata": {
        "id": "pPwoQF_Hebod"
      },
      "source": [
        "<table align=\"left\">\n",
        "    <tr>\n",
        "        <td width=\"8%\">\n",
        "            <img src=\"quicktip.png\">\n",
        "        </td>\n",
        "        <td>\n",
        "            <div align=\"left\", style=\"font-size:120%\">\n",
        "                <font color=\"#21618C\">\n",
        "                    <b>Correlation does not imply causation. In other words, if two variables are correlated, it does not mean that one variable caused the other.</b>\n",
        "                </font>\n",
        "            </div>\n",
        "        </td>\n",
        "    </tr>\n",
        "</table>"
      ]
    },
    {
      "cell_type": "markdown",
      "metadata": {
        "id": "OET43huSeboe"
      },
      "source": [
        "<table align=\"left\">\n",
        "    <tr>\n",
        "        <td width=\"8%\">\n",
        "            <img src=\"alsoreadicon.png\">\n",
        "        </td>\n",
        "        <td>\n",
        "            <div align=\"left\", style=\"font-size:120%\">\n",
        "                <font color=\"#21618C\">\n",
        "                    <b>I love to know more:</b> <br><br>\n",
        "                    <a href=\"https://bit.ly/2PBvA8T\">Why correlation does not imply causation </a>\n",
        "                </font>\n",
        "            </div>\n",
        "        </td>\n",
        "    </tr>\n",
        "</table>\n",
        "\n"
      ]
    },
    {
      "cell_type": "markdown",
      "metadata": {
        "id": "7sAG1s6GzZ3c"
      },
      "source": [
        "<a id='EDA'></a>\n",
        "## 4.2 Exploratory Data Analysis"
      ]
    },
    {
      "cell_type": "markdown",
      "metadata": {
        "id": "OmUnviXrzZ3c"
      },
      "source": [
        "<a id='Peak'></a>\n",
        "### 4.2.1 Peak hours"
      ]
    },
    {
      "cell_type": "markdown",
      "metadata": {
        "id": "VSpr4Nd6zZ3c"
      },
      "source": [
        "We will check for the business during the weekdays and weekends."
      ]
    },
    {
      "cell_type": "markdown",
      "metadata": {
        "id": "pBiHi0r5zZ3c"
      },
      "source": [
        "We will check the peak hours during the following: <br><br>\n",
        "                        1. Weekdays <br>\n",
        "                        2. Weekends <br>\n",
        "                    </b>\n",
        "                </font>\n",
        "            </div>\n",
        "        </td>\n",
        "    </tr>\n",
        "</table>"
      ]
    },
    {
      "cell_type": "markdown",
      "metadata": {
        "id": "5zEkJyZ2zZ3d"
      },
      "source": [
        "**1. Plot a countplot to check the peak hours during weekdays**"
      ]
    },
    {
      "cell_type": "markdown",
      "metadata": {
        "id": "U2K-8O4izZ3d"
      },
      "source": [
        "To plot a countplot, we use the `countplot()` from the seaborn library."
      ]
    },
    {
      "cell_type": "code",
      "execution_count": 29,
      "metadata": {
        "colab": {
          "base_uri": "https://localhost:8080/",
          "height": 350
        },
        "id": "OXRXoLcozZ3d",
        "outputId": "dbd9f9b6-9090-43a5-dccb-2b9c86e57a06"
      },
      "outputs": [
        {
          "output_type": "execute_result",
          "data": {
            "text/plain": [
              "<matplotlib.axes._subplots.AxesSubplot at 0x7f951d336fd0>"
            ]
          },
          "metadata": {},
          "execution_count": 29
        },
        {
          "output_type": "display_data",
          "data": {
            "text/plain": [
              "<Figure size 1440x360 with 1 Axes>"
            ],
            "image/png": "[encoded data removed]"
          },
          "metadata": {
            "needs_background": "light"
          }
        }
      ],
      "source": [
        "# Set the figure size, grid type and color palette along with appropraite titel for the plot\n",
        "plt.figure(figsize=(20,5))\n",
        "plt.title('Taxi trips count during week days')\n",
        "sns.set_style(\"white\")\n",
        "#plot the countplot for weekdays\n",
        "sns.countplot(x='hour', data=df_taxi.loc[(df_taxi.dayofweek >= 0) & (df_taxi.dayofweek <=4)], palette='Set2')"
      ]
    },
    {
      "cell_type": "markdown",
      "metadata": {
        "id": "UmnUkE31zZ3d"
      },
      "source": [
        "We see that during the weekdays the count of trips start to peak from 8 am and is highest at 9am. In the evening the peak is at 6pm and 7pm."
      ]
    },
    {
      "cell_type": "markdown",
      "metadata": {
        "id": "XwZUIjS7zZ3d"
      },
      "source": [
        "**2. Plot a countplot to check the peak hours during weekends**"
      ]
    },
    {
      "cell_type": "code",
      "execution_count": 30,
      "metadata": {
        "colab": {
          "base_uri": "https://localhost:8080/",
          "height": 351
        },
        "id": "pnMDT6_6zZ3d",
        "outputId": "917be068-f89a-4d22-faf4-257fc4825e21"
      },
      "outputs": [
        {
          "output_type": "execute_result",
          "data": {
            "text/plain": [
              "<matplotlib.axes._subplots.AxesSubplot at 0x7f951d29ea10>"
            ]
          },
          "metadata": {},
          "execution_count": 30
        },
        {
          "output_type": "display_data",
          "data": {
            "text/plain": [
              "<Figure size 1440x360 with 1 Axes>"
            ],
            "image/png": "[encoded data removed]"
          },
          "metadata": {}
        }
      ],
      "source": [
        "# Set the figure size, grid type and color palette along with appropraite titel for the plot\n",
        "plt.figure(figsize=(20,5))\n",
        "plt.title('Taxi trips count during week ends')\n",
        "sns.set_style(\"white\")\n",
        "#plot the countplot for weekends\n",
        "sns.countplot(x='hour', data=df_taxi.loc[(df_taxi.dayofweek >= 5) & (df_taxi.dayofweek <=6)], palette='Set2')"
      ]
    },
    {
      "cell_type": "markdown",
      "metadata": {
        "id": "7pECEbb9zZ3e"
      },
      "source": [
        "We see that during the weekends the count of trips is high after 12 midnight to 3am to 4am. This pattern is different from the weekdays. In the evening the demand is almost evenly high after 6pm till late night except."
      ]
    },
    {
      "cell_type": "markdown",
      "metadata": {
        "id": "Wov88PDyzZ3e"
      },
      "source": [
        "<table align=\"left\">\n",
        "    <tr>\n",
        "        <td width=\"8%\">\n",
        "            <img src=\"infer.png\">\n",
        "        </td>\n",
        "        <td>\n",
        "            <div align=\"left\", style=\"font-size:120%\">\n",
        "                <font color=\"#21618C\">\n",
        "                    <b>From the above plot, we can notice that the pattern for demand of taxi is different for weekdays and weekends.</b>\n",
        "                </font>\n",
        "            </div>\n",
        "        </td>\n",
        "    </tr>\n",
        "</table>\n",
        "\n",
        "\n"
      ]
    },
    {
      "cell_type": "markdown",
      "metadata": {
        "id": "RNxFmNlgzZ3e"
      },
      "source": [
        "<a id='Mean_Fare'></a>\n",
        "### 4.2.2 Mean fare for each hour during weekdays and weekends"
      ]
    },
    {
      "cell_type": "markdown",
      "metadata": {
        "id": "59zI4IcEzZ3e"
      },
      "source": [
        "We will check the mean fares for each hour during the weekdays and weekends."
      ]
    },
    {
      "cell_type": "markdown",
      "metadata": {
        "id": "5uqehUeGzZ3e"
      },
      "source": [
        "<table align=\"left\">\n",
        "    <tr>\n",
        "        <td width=\"8%\">\n",
        "            <img src=\"todo.png\">\n",
        "        </td>\n",
        "        <td>\n",
        "            <div align=\"left\", style=\"font-size:120%\">\n",
        "                <font color=\"#21618C\">\n",
        "                    <b> We will do the following: <br><br>\n",
        "                        1. Compute the mean hourly fare for weekdays and weekends <br>\n",
        "                        2. Plot the bar graph for the same <br>\n",
        "                    </b>\n",
        "                </font>\n",
        "            </div>\n",
        "        </td>\n",
        "    </tr>\n",
        "</table>"
      ]
    },
    {
      "cell_type": "markdown",
      "metadata": {
        "id": "SKLSmQmlzZ3f"
      },
      "source": [
        "**1. Compute the hourly mean fare for weekdays and weekends**"
      ]
    },
    {
      "cell_type": "code",
      "execution_count": 31,
      "metadata": {
        "collapsed": true,
        "id": "WZ3gI8utzZ3f"
      },
      "outputs": [],
      "source": [
        "# Set the days in the dataset as week days and week ends\n",
        "week_days = df_taxi.loc[(df_taxi.dayofweek >= 0) & (df_taxi.dayofweek <= 4)]\n",
        "week_ends = df_taxi.loc[(df_taxi.dayofweek >= 5) & (df_taxi.dayofweek <= 6)]\n",
        "# compute the mean fare amount over the week day and week end.\n",
        "# use groupby('hour') to get the mean fare for each hour\n",
        "week_days_fare = week_days.groupby(['hour']).amount.mean().to_frame().reset_index()\n",
        "week_ends_fare = week_ends.groupby(['hour']).amount.mean().to_frame().reset_index()"
      ]
    },
    {
      "cell_type": "markdown",
      "metadata": {
        "id": "-JX9xlkSzZ3f"
      },
      "source": [
        "**2. Plot the mean fare**"
      ]
    },
    {
      "cell_type": "code",
      "execution_count": 32,
      "metadata": {
        "colab": {
          "base_uri": "https://localhost:8080/",
          "height": 595
        },
        "id": "KtCK6ppQzZ3f",
        "outputId": "308dc36a-9b54-43e8-8853-6d46b3edae50"
      },
      "outputs": [
        {
          "output_type": "display_data",
          "data": {
            "text/plain": [
              "<Figure size 1440x720 with 1 Axes>"
            ],
            "image/png": "[encoded data removed]"
          },
          "metadata": {}
        }
      ],
      "source": [
        "# hours\n",
        "x = np.array(week_days_fare.hour)\n",
        "# an array of week day fare \n",
        "y = np.array(week_days_fare.amount)\n",
        "# an array of week end fare\n",
        "z = np.array(week_ends_fare.amount)\n",
        "\n",
        "# Set the figure size, title, x and y labels\n",
        "plt.figure(figsize = (20,10))\n",
        "plt.title('Mean Fare Amont For Each Hour - Weekdays Vs Weekends')\n",
        "plt.xlabel('Hours')\n",
        "plt.ylabel('Mean Fare')\n",
        "# Pass the three integers. The value of these integer should be less that 10\n",
        "ax=plt.subplot(1,1,1)\n",
        "ax.bar(x-0.2, y, width=0.2, color='red', align='center', label = 'Week days')\n",
        "ax.bar(x, z, width=0.2, color='blue', align='center', label = 'Week ends')\n",
        "plt.xticks(range(0,24))\n",
        "plt.legend()\n",
        "plt.show()\n"
      ]
    },
    {
      "cell_type": "markdown",
      "metadata": {
        "id": "i6gQ_Zc-zZ3f"
      },
      "source": [
        "We notice that the mean fares for each hour are different for week days and week ends. Mean fare for weekdays during morning hours 6,7 and 8 is lmuch ess compared to weekends."
      ]
    },
    {
      "cell_type": "markdown",
      "metadata": {
        "id": "gzfAy2dPzZ3g"
      },
      "source": [
        "<a id='Distribution'></a>\n",
        "### 4.2.3 Distribution of key numerical vairables"
      ]
    },
    {
      "cell_type": "markdown",
      "metadata": {
        "id": "c2ydZlHjzZ3g"
      },
      "source": [
        "We will check the distribustion of 'travel_dist_km' and 'amount'"
      ]
    },
    {
      "cell_type": "markdown",
      "metadata": {
        "id": "hFqyazxYzZ3g"
      },
      "source": [
        "<table align=\"left\">\n",
        "    <tr>\n",
        "        <td width=\"8%\">\n",
        "            <img src=\"todo.png\">\n",
        "        </td>\n",
        "        <td>\n",
        "            <div align=\"left\", style=\"font-size:120%\">\n",
        "                <font color=\"#21618C\">\n",
        "                    <b> We will check the distribution of the following variables: <br><br>\n",
        "                        1. 'amount' <br>\n",
        "                        2. 'travel_dist_km' <br>\n",
        "                    </b>\n",
        "                </font>\n",
        "            </div>\n",
        "        </td>\n",
        "    </tr>\n",
        "</table>"
      ]
    },
    {
      "cell_type": "markdown",
      "metadata": {
        "id": "UDIgEzR5zZ3g"
      },
      "source": [
        "**1. Distribution of fare 'amount'**"
      ]
    },
    {
      "cell_type": "code",
      "execution_count": 33,
      "metadata": {
        "colab": {
          "base_uri": "https://localhost:8080/",
          "height": 0
        },
        "id": "N50Gs-YAzZ3g",
        "outputId": "5668daff-c795-49c9-fb53-eab41848ee40"
      },
      "outputs": [
        {
          "output_type": "display_data",
          "data": {
            "text/plain": [
              "<Figure size 1440x720 with 1 Axes>"
            ],
            "image/png": "[encoded data removed]"
          },
          "metadata": {}
        }
      ],
      "source": [
        "plt.figure(figsize=(20,10))\n",
        "sns.set_style(\"darkgrid\")\n",
        "plt.title(\"Distribution of the fare amount\")\n",
        "plt.xlabel(\"Fare Amount\")\n",
        "plt.ylabel(\"Frequency\")\n",
        "plt.xlim(-10,20)\n",
        "plt.xticks(range(0,200,5))\n",
        "\n",
        "snsplot = sns.kdeplot(df_taxi.amount, shade=True)\n"
      ]
    },
    {
      "cell_type": "markdown",
      "metadata": {
        "id": "p12XCM0EzZ3g"
      },
      "source": [
        "We can see that most the trips have a fare amount of 2 to 20 dollars. There are a few small peaks around 50 and 58 dollars as well."
      ]
    },
    {
      "cell_type": "markdown",
      "metadata": {
        "id": "M-1BX5dhzZ3h"
      },
      "source": [
        "**2. Distribustion of the travel distance in km**"
      ]
    },
    {
      "cell_type": "code",
      "execution_count": 34,
      "metadata": {
        "colab": {
          "base_uri": "https://localhost:8080/",
          "height": 0
        },
        "id": "3jyOtRnfzZ3h",
        "outputId": "a5fef8c7-eb57-4a44-c350-6ef49b9b12db"
      },
      "outputs": [
        {
          "output_type": "display_data",
          "data": {
            "text/plain": [
              "<Figure size 1440x720 with 1 Axes>"
            ],
            "image/png": "[encoded data removed]"
          },
          "metadata": {}
        }
      ],
      "source": [
        "plt.figure(figsize = (20,10))\n",
        "sns.style = ('darkgrid')\n",
        "plt.title(\"Distribution of the trip distance\")\n",
        "plt.xlabel(\"Distance(Km)\")\n",
        "plt.ylabel(\"Frequency\")\n",
        "plt.xlim(-10, 200)\n",
        "plt.xticks(range(0,200,5))\n",
        "\n",
        "sns.plot = sns.kdeplot(df_taxi[df_taxi.travel_dist_km<600].travel_dist_km, shade=True)"
      ]
    },
    {
      "cell_type": "markdown",
      "metadata": {
        "id": "FyuQ-9FSzZ3h"
      },
      "source": [
        "We can see that most the trips have a travel distance of 2.5 km to 25 km. There are a few instances of 0 km as well."
      ]
    },
    {
      "cell_type": "markdown",
      "metadata": {
        "id": "J1qk2FmazZ3h"
      },
      "source": [
        "<table align=\"left\">\n",
        "    <tr>\n",
        "        <td width=\"8%\">\n",
        "            <img src=\"infer.png\">\n",
        "        </td>\n",
        "        <td>\n",
        "            <div align=\"left\", style=\"font-size:120%\">\n",
        "                <font color=\"#21618C\">\n",
        "                    <b>We have generated new features, removed redundant features and removed the outliers.\n",
        "<br>                    \n",
        "We now progress to build the model.\n",
        "</b>\n",
        "                </font>\n",
        "            </div>\n",
        "        </td>\n",
        "    </tr>\n",
        "</table>"
      ]
    },
    {
      "cell_type": "markdown",
      "metadata": {
        "id": "QeVQIcAfzZ3i"
      },
      "source": [
        "<a id='Random_Forest'></a>\n",
        "# 5.  Random Forest"
      ]
    },
    {
      "cell_type": "markdown",
      "metadata": {
        "id": "sl4lZls5zZ3i"
      },
      "source": [
        "It is an example of the `Bagging` technique. It constructs multiple decision trees on randomly selected data samples. We can use the bootstrap sampling method to select the random samples of the same size from the dataset to construct multiple trees."
      ]
    },
    {
      "cell_type": "markdown",
      "metadata": {
        "id": "ro-BNxarzZ3i"
      },
      "source": [
        "<a id='RF_Model'></a>\n",
        "## 5.1 Random Forest Model"
      ]
    },
    {
      "cell_type": "markdown",
      "metadata": {
        "id": "XfA4Ey-yzZ3i"
      },
      "source": [
        "In this section we build a model using random forest regressor."
      ]
    },
    {
      "cell_type": "markdown",
      "metadata": {
        "id": "J9_FdJGNzZ3i"
      },
      "source": [
        "<table align=\"left\">\n",
        "    <tr>\n",
        "        <td width=\"8%\">\n",
        "            <img src=\"todo.png\">\n",
        "        </td>\n",
        "        <td>\n",
        "            <div align=\"left\", style=\"font-size:120%\">\n",
        "                <font color=\"#21618C\">\n",
        "                    <b>In order to build the model, we do the following: <br><br>\n",
        "                       1. Split the features and target into seperate data frames<br>\n",
        "                       2. Split the data into training and test sets<br>\n",
        "                       3. Build model<br>\n",
        "                       4. Predict the values using test set <br>\n",
        "                       5. Compute accuracy measures <br>\n",
        "                       6. Tabulate the results\n",
        "</b>\n",
        "                </font>\n",
        "            </div>\n",
        "        </td>\n",
        "    </tr>\n",
        "</table>\n"
      ]
    },
    {
      "cell_type": "markdown",
      "metadata": {
        "id": "OdaMf-UnzZ3j"
      },
      "source": [
        "**1. Split the data into features and target dataframes**"
      ]
    },
    {
      "cell_type": "markdown",
      "metadata": {
        "id": "01GE0E9nzZ3j"
      },
      "source": [
        "Store the amount variable which is the target variable, into y."
      ]
    },
    {
      "cell_type": "code",
      "execution_count": 35,
      "metadata": {
        "collapsed": true,
        "id": "7x1Zip3-zZ3j"
      },
      "outputs": [],
      "source": [
        "# select only the target variable 'amount' and store it in dataframe 'y'\n",
        "y = pd.DataFrame(df_taxi['amount'])"
      ]
    },
    {
      "cell_type": "markdown",
      "metadata": {
        "id": "ZUYhJIVNzZ3k"
      },
      "source": [
        "Now, use this 'y' as a target variable to build the classification models."
      ]
    },
    {
      "cell_type": "code",
      "execution_count": 36,
      "metadata": {
        "collapsed": true,
        "id": "2jnAnYn1zZ3k"
      },
      "outputs": [],
      "source": [
        "# use 'drop()' to remove the variable 'amount' from df_taxi\n",
        "# 'axis = 1' drops the corresponding column(s)\n",
        "X = df_taxi.drop('amount',axis = 1)"
      ]
    },
    {
      "cell_type": "code",
      "execution_count": 37,
      "metadata": {
        "colab": {
          "base_uri": "https://localhost:8080/",
          "height": 0
        },
        "id": "MyqHJhXdzZ3k",
        "outputId": "f9b00800-1017-4ac4-91c3-652b8f4c3403",
        "scrolled": true
      },
      "outputs": [
        {
          "output_type": "execute_result",
          "data": {
            "text/plain": [
              "   longitude_of_pickup  latitude_of_pickup  longitude_of_dropoff  \\\n",
              "0           -73.844311           40.721319            -73.841610   \n",
              "1           -74.016048           40.711303            -73.979268   \n",
              "2           -73.982738           40.761270            -73.991242   \n",
              "3           -73.987130           40.733143            -73.991567   \n",
              "4           -73.968095           40.768008            -73.956655   \n",
              "\n",
              "   latitude_of_dropoff  no_of_passenger  hour  day  month  year  dayofweek  \\\n",
              "0            40.712278         1.000000    17   15      6  2009          0   \n",
              "1            40.782004         1.000000    16    5      1  2010          1   \n",
              "2            40.750562         2.000000     0   18      8  2011          3   \n",
              "3            40.758092         1.000000     4   21      4  2012          5   \n",
              "4            40.783762         1.000000     7    9      3  2010          1   \n",
              "\n",
              "   travel_dist_km  \n",
              "0        1.030764  \n",
              "1        8.450134  \n",
              "2        1.389525  \n",
              "3        2.799270  \n",
              "4        1.999157  "
            ],
            "text/html": [
              "\n",
              "  <div id=\"df-bbc3527c-eed8-460b-a685-8662527ad173\">\n",
              "    <div class=\"colab-df-container\">\n",
              "      <div>\n",
              "<style scoped>\n",
              "    .dataframe tbody tr th:only-of-type {\n",
              "        vertical-align: middle;\n",
              "    }\n",
              "\n",
              "    .dataframe tbody tr th {\n",
              "        vertical-align: top;\n",
              "    }\n",
              "\n",
              "    .dataframe thead th {\n",
              "        text-align: right;\n",
              "    }\n",
              "</style>\n",
              "<table border=\"1\" class=\"dataframe\">\n",
              "  <thead>\n",
              "    <tr style=\"text-align: right;\">\n",
              "      <th></th>\n",
              "      <th>longitude_of_pickup</th>\n",
              "      <th>latitude_of_pickup</th>\n",
              "      <th>longitude_of_dropoff</th>\n",
              "      <th>latitude_of_dropoff</th>\n",
              "      <th>no_of_passenger</th>\n",
              "      <th>hour</th>\n",
              "      <th>day</th>\n",
              "      <th>month</th>\n",
              "      <th>year</th>\n",
              "      <th>dayofweek</th>\n",
              "      <th>travel_dist_km</th>\n",
              "    </tr>\n",
              "  </thead>\n",
              "  <tbody>\n",
              "    <tr>\n",
              "      <th>0</th>\n",
              "      <td>-73.844311</td>\n",
              "      <td>40.721319</td>\n",
              "      <td>-73.841610</td>\n",
              "      <td>40.712278</td>\n",
              "      <td>1.000000</td>\n",
              "      <td>17</td>\n",
              "      <td>15</td>\n",
              "      <td>6</td>\n",
              "      <td>2009</td>\n",
              "      <td>0</td>\n",
              "      <td>1.030764</td>\n",
              "    </tr>\n",
              "    <tr>\n",
              "      <th>1</th>\n",
              "      <td>-74.016048</td>\n",
              "      <td>40.711303</td>\n",
              "      <td>-73.979268</td>\n",
              "      <td>40.782004</td>\n",
              "      <td>1.000000</td>\n",
              "      <td>16</td>\n",
              "      <td>5</td>\n",
              "      <td>1</td>\n",
              "      <td>2010</td>\n",
              "      <td>1</td>\n",
              "      <td>8.450134</td>\n",
              "    </tr>\n",
              "    <tr>\n",
              "      <th>2</th>\n",
              "      <td>-73.982738</td>\n",
              "      <td>40.761270</td>\n",
              "      <td>-73.991242</td>\n",
              "      <td>40.750562</td>\n",
              "      <td>2.000000</td>\n",
              "      <td>0</td>\n",
              "      <td>18</td>\n",
              "      <td>8</td>\n",
              "      <td>2011</td>\n",
              "      <td>3</td>\n",
              "      <td>1.389525</td>\n",
              "    </tr>\n",
              "    <tr>\n",
              "      <th>3</th>\n",
              "      <td>-73.987130</td>\n",
              "      <td>40.733143</td>\n",
              "      <td>-73.991567</td>\n",
              "      <td>40.758092</td>\n",
              "      <td>1.000000</td>\n",
              "      <td>4</td>\n",
              "      <td>21</td>\n",
              "      <td>4</td>\n",
              "      <td>2012</td>\n",
              "      <td>5</td>\n",
              "      <td>2.799270</td>\n",
              "    </tr>\n",
              "    <tr>\n",
              "      <th>4</th>\n",
              "      <td>-73.968095</td>\n",
              "      <td>40.768008</td>\n",
              "      <td>-73.956655</td>\n",
              "      <td>40.783762</td>\n",
              "      <td>1.000000</td>\n",
              "      <td>7</td>\n",
              "      <td>9</td>\n",
              "      <td>3</td>\n",
              "      <td>2010</td>\n",
              "      <td>1</td>\n",
              "      <td>1.999157</td>\n",
              "    </tr>\n",
              "  </tbody>\n",
              "</table>\n",
              "</div>\n",
              "      <button class=\"colab-df-convert\" onclick=\"convertToInteractive('df-bbc3527c-eed8-460b-a685-8662527ad173')\"\n",
              "              title=\"Convert this dataframe to an interactive table.\"\n",
              "              style=\"display:none;\">\n",
              "        \n",
              "  <svg xmlns=\"http://www.w3.org/2000/svg\" height=\"24px\"viewBox=\"0 0 24 24\"\n",
              "       width=\"24px\">\n",
              "    <path d=\"M0 0h24v24H0V0z\" fill=\"none\"/>\n",
              "    <path d=\"M18.56 5.44l.94 2.06.94-2.06 2.06-.94-2.06-.94-.94-2.06-.94 2.06-2.06.94zm-11 1L8.5 8.5l.94-2.06 2.06-.94-2.06-.94L8.5 2.5l-.94 2.06-2.06.94zm10 10l.94 2.06.94-2.06 2.06-.94-2.06-.94-.94-2.06-.94 2.06-2.06.94z\"/><path d=\"M17.41 7.96l-1.37-1.37c-.4-.4-.92-.59-1.43-.59-.52 0-1.04.2-1.43.59L10.3 9.45l-7.72 7.72c-.78.78-.78 2.05 0 2.83L4 21.41c.39.39.9.59 1.41.59.51 0 1.02-.2 1.41-.59l7.78-7.78 2.81-2.81c.8-.78.8-2.07 0-2.86zM5.41 20L4 18.59l7.72-7.72 1.47 1.35L5.41 20z\"/>\n",
              "  </svg>\n",
              "      </button>\n",
              "      \n",
              "  <style>\n",
              "    .colab-df-container {\n",
              "      display:flex;\n",
              "      flex-wrap:wrap;\n",
              "      gap: 12px;\n",
              "    }\n",
              "\n",
              "    .colab-df-convert {\n",
              "      background-color: #E8F0FE;\n",
              "      border: none;\n",
              "      border-radius: 50%;\n",
              "      cursor: pointer;\n",
              "      display: none;\n",
              "      fill: #1967D2;\n",
              "      height: 32px;\n",
              "      padding: 0 0 0 0;\n",
              "      width: 32px;\n",
              "    }\n",
              "\n",
              "    .colab-df-convert:hover {\n",
              "      background-color: #E2EBFA;\n",
              "      box-shadow: 0px 1px 2px rgba(60, 64, 67, 0.3), 0px 1px 3px 1px rgba(60, 64, 67, 0.15);\n",
              "      fill: #174EA6;\n",
              "    }\n",
              "\n",
              "    [theme=dark] .colab-df-convert {\n",
              "      background-color: #3B4455;\n",
              "      fill: #D2E3FC;\n",
              "    }\n",
              "\n",
              "    [theme=dark] .colab-df-convert:hover {\n",
              "      background-color: #434B5C;\n",
              "      box-shadow: 0px 1px 3px 1px rgba(0, 0, 0, 0.15);\n",
              "      filter: drop-shadow(0px 1px 2px rgba(0, 0, 0, 0.3));\n",
              "      fill: #FFFFFF;\n",
              "    }\n",
              "  </style>\n",
              "\n",
              "      <script>\n",
              "        const buttonEl =\n",
              "          document.querySelector('#df-bbc3527c-eed8-460b-a685-8662527ad173 button.colab-df-convert');\n",
              "        buttonEl.style.display =\n",
              "          google.colab.kernel.accessAllowed ? 'block' : 'none';\n",
              "\n",
              "        async function convertToInteractive(key) {\n",
              "          const element = document.querySelector('#df-bbc3527c-eed8-460b-a685-8662527ad173');\n",
              "          const dataTable =\n",
              "            await google.colab.kernel.invokeFunction('convertToInteractive',\n",
              "                                                     [key], {});\n",
              "          if (!dataTable) return;\n",
              "\n",
              "          const docLinkHtml = 'Like what you see? Visit the ' +\n",
              "            '<a target=\"_blank\" href=https://colab.research.google.com/notebooks/data_table.ipynb>data table notebook</a>'\n",
              "            + ' to learn more about interactive tables.';\n",
              "          element.innerHTML = '';\n",
              "          dataTable['output_type'] = 'display_data';\n",
              "          await google.colab.output.renderOutput(dataTable, element);\n",
              "          const docLink = document.createElement('div');\n",
              "          docLink.innerHTML = docLinkHtml;\n",
              "          element.appendChild(docLink);\n",
              "        }\n",
              "      </script>\n",
              "    </div>\n",
              "  </div>\n",
              "  "
            ]
          },
          "metadata": {},
          "execution_count": 37
        }
      ],
      "source": [
        "X.head()"
      ]
    },
    {
      "cell_type": "markdown",
      "metadata": {
        "id": "S-6YhZ_vzZ3l"
      },
      "source": [
        "Use this 'X' as a set of predictors to build the model."
      ]
    },
    {
      "cell_type": "markdown",
      "metadata": {
        "id": "-CPFZCH5zZ3l"
      },
      "source": [
        "**2. Split the data into training and test sets**"
      ]
    },
    {
      "cell_type": "code",
      "execution_count": 38,
      "metadata": {
        "colab": {
          "base_uri": "https://localhost:8080/"
        },
        "id": "x-fjZQaDzZ3l",
        "outputId": "d29eb7d0-69e0-40c5-cf0c-d88e7f1aae09"
      },
      "outputs": [
        {
          "output_type": "stream",
          "name": "stdout",
          "text": [
            "The shape of X_train is: (27440, 11)\n",
            "The shape of X_test is: (11760, 11)\n",
            "The shape of y_train is: (27440, 1)\n",
            "The shape of y_test is: (11760, 1)\n"
          ]
        }
      ],
      "source": [
        "\n",
        "# split data into train subset and test subset for predictor and target variables\n",
        "# 'test_size' returns the proportion of data to be included in the test set\n",
        "# set 'random_state' to generate the same dataset each time you run the code \n",
        "X_train, X_test, y_train, y_test = train_test_split(X, y, test_size = 0.3, random_state = 1)\n",
        "\n",
        "# check the dimensions of the train & test subset for \n",
        "# print dimension of predictors train set\n",
        "print(\"The shape of X_train is:\",X_train.shape)\n",
        "\n",
        "# print dimension of predictors test set\n",
        "print(\"The shape of X_test is:\",X_test.shape)\n",
        "\n",
        "# print dimension of target train set\n",
        "print(\"The shape of y_train is:\",y_train.shape)\n",
        "\n",
        "# print dimension of target test set\n",
        "print(\"The shape of y_test is:\",y_test.shape)"
      ]
    },
    {
      "cell_type": "markdown",
      "metadata": {
        "id": "7ZAAzv0GzZ3m"
      },
      "source": [
        "**2. Build model using RandomForestRegressor**"
      ]
    },
    {
      "cell_type": "code",
      "execution_count": 39,
      "metadata": {
        "colab": {
          "base_uri": "https://localhost:8080/"
        },
        "id": "lJZzUhLnzZ3m",
        "outputId": "41da69fe-0334-43ed-bb8d-5192a541f8d6",
        "scrolled": true
      },
      "outputs": [
        {
          "output_type": "execute_result",
          "data": {
            "text/plain": [
              "RandomForestRegressor(random_state=10)"
            ]
          },
          "metadata": {},
          "execution_count": 39
        }
      ],
      "source": [
        "#intantiate the regressor\n",
        "rf_reg = RandomForestRegressor(n_estimators=100, random_state=10)\n",
        "\n",
        "# fit the regressor with training dataset\n",
        "rf_reg.fit(X_train, y_train)"
      ]
    },
    {
      "cell_type": "markdown",
      "metadata": {
        "id": "EzApMLM6zZ3m"
      },
      "source": [
        "**3. Predict the values using test set**"
      ]
    },
    {
      "cell_type": "code",
      "execution_count": 40,
      "metadata": {
        "collapsed": true,
        "id": "o8qG3NtJzZ3m"
      },
      "outputs": [],
      "source": [
        "# predict the values on test dataset using predict()\n",
        "y_pred = rf_reg.predict(X_test)"
      ]
    },
    {
      "cell_type": "markdown",
      "metadata": {
        "id": "uRgqmFDCzZ3m"
      },
      "source": [
        "**4. Compute accuracy measures**\n",
        "\n",
        "Now we calculate accuray measures Root-mean-square-error (RMSE), R-squared and Adjusted R-squared."
      ]
    },
    {
      "cell_type": "code",
      "execution_count": 41,
      "metadata": {
        "colab": {
          "base_uri": "https://localhost:8080/"
        },
        "id": "tR8dc5_0zZ3n",
        "outputId": "e647b420-5691-430b-b65c-7b994c9169a8"
      },
      "outputs": [
        {
          "output_type": "stream",
          "name": "stdout",
          "text": [
            "Mean Absolute Error (MAE): 2.117489489795918\n",
            "Mean Squared Error (MSE): 23.072373650207485\n",
            "Root Mean Squared Error (RMSE): 4.803371071467151\n"
          ]
        }
      ],
      "source": [
        "# Calculate MAE\n",
        "rf_reg_MAE = metrics.mean_absolute_error(y_test, y_pred)\n",
        "print('Mean Absolute Error (MAE):', rf_reg_MAE)\n",
        "\n",
        "# Calculate MSE\n",
        "rf_reg_MSE = metrics.mean_squared_error(y_test, y_pred)\n",
        "print('Mean Squared Error (MSE):', rf_reg_MSE)\n",
        "\n",
        "# Calculate RMSE\n",
        "rf_reg_RMSE = np.sqrt(metrics.mean_squared_error(y_test, y_pred))\n",
        "print('Root Mean Squared Error (RMSE):', rf_reg_RMSE)"
      ]
    },
    {
      "cell_type": "markdown",
      "metadata": {
        "id": "0xNtqZghzZ3n"
      },
      "source": [
        "**5. Tabulate the results**"
      ]
    },
    {
      "cell_type": "code",
      "execution_count": 42,
      "metadata": {
        "colab": {
          "base_uri": "https://localhost:8080/",
          "height": 0
        },
        "id": "I4sPMfL7zZ3n",
        "outputId": "e92a2e17-c2f4-42d0-920a-123337153592"
      },
      "outputs": [
        {
          "output_type": "execute_result",
          "data": {
            "text/plain": [
              "            Model      MAE       MSE     RMSE\n",
              "0  Random Forest  2.117489 23.072374 4.803371"
            ],
            "text/html": [
              "\n",
              "  <div id=\"df-9bf40378-c360-47c4-bdc8-c5276fb456a9\">\n",
              "    <div class=\"colab-df-container\">\n",
              "      <div>\n",
              "<style scoped>\n",
              "    .dataframe tbody tr th:only-of-type {\n",
              "        vertical-align: middle;\n",
              "    }\n",
              "\n",
              "    .dataframe tbody tr th {\n",
              "        vertical-align: top;\n",
              "    }\n",
              "\n",
              "    .dataframe thead th {\n",
              "        text-align: right;\n",
              "    }\n",
              "</style>\n",
              "<table border=\"1\" class=\"dataframe\">\n",
              "  <thead>\n",
              "    <tr style=\"text-align: right;\">\n",
              "      <th></th>\n",
              "      <th>Model</th>\n",
              "      <th>MAE</th>\n",
              "      <th>MSE</th>\n",
              "      <th>RMSE</th>\n",
              "    </tr>\n",
              "  </thead>\n",
              "  <tbody>\n",
              "    <tr>\n",
              "      <th>0</th>\n",
              "      <td>Random Forest</td>\n",
              "      <td>2.117489</td>\n",
              "      <td>23.072374</td>\n",
              "      <td>4.803371</td>\n",
              "    </tr>\n",
              "  </tbody>\n",
              "</table>\n",
              "</div>\n",
              "      <button class=\"colab-df-convert\" onclick=\"convertToInteractive('df-9bf40378-c360-47c4-bdc8-c5276fb456a9')\"\n",
              "              title=\"Convert this dataframe to an interactive table.\"\n",
              "              style=\"display:none;\">\n",
              "        \n",
              "  <svg xmlns=\"http://www.w3.org/2000/svg\" height=\"24px\"viewBox=\"0 0 24 24\"\n",
              "       width=\"24px\">\n",
              "    <path d=\"M0 0h24v24H0V0z\" fill=\"none\"/>\n",
              "    <path d=\"M18.56 5.44l.94 2.06.94-2.06 2.06-.94-2.06-.94-.94-2.06-.94 2.06-2.06.94zm-11 1L8.5 8.5l.94-2.06 2.06-.94-2.06-.94L8.5 2.5l-.94 2.06-2.06.94zm10 10l.94 2.06.94-2.06 2.06-.94-2.06-.94-.94-2.06-.94 2.06-2.06.94z\"/><path d=\"M17.41 7.96l-1.37-1.37c-.4-.4-.92-.59-1.43-.59-.52 0-1.04.2-1.43.59L10.3 9.45l-7.72 7.72c-.78.78-.78 2.05 0 2.83L4 21.41c.39.39.9.59 1.41.59.51 0 1.02-.2 1.41-.59l7.78-7.78 2.81-2.81c.8-.78.8-2.07 0-2.86zM5.41 20L4 18.59l7.72-7.72 1.47 1.35L5.41 20z\"/>\n",
              "  </svg>\n",
              "      </button>\n",
              "      \n",
              "  <style>\n",
              "    .colab-df-container {\n",
              "      display:flex;\n",
              "      flex-wrap:wrap;\n",
              "      gap: 12px;\n",
              "    }\n",
              "\n",
              "    .colab-df-convert {\n",
              "      background-color: #E8F0FE;\n",
              "      border: none;\n",
              "      border-radius: 50%;\n",
              "      cursor: pointer;\n",
              "      display: none;\n",
              "      fill: #1967D2;\n",
              "      height: 32px;\n",
              "      padding: 0 0 0 0;\n",
              "      width: 32px;\n",
              "    }\n",
              "\n",
              "    .colab-df-convert:hover {\n",
              "      background-color: #E2EBFA;\n",
              "      box-shadow: 0px 1px 2px rgba(60, 64, 67, 0.3), 0px 1px 3px 1px rgba(60, 64, 67, 0.15);\n",
              "      fill: #174EA6;\n",
              "    }\n",
              "\n",
              "    [theme=dark] .colab-df-convert {\n",
              "      background-color: #3B4455;\n",
              "      fill: #D2E3FC;\n",
              "    }\n",
              "\n",
              "    [theme=dark] .colab-df-convert:hover {\n",
              "      background-color: #434B5C;\n",
              "      box-shadow: 0px 1px 3px 1px rgba(0, 0, 0, 0.15);\n",
              "      filter: drop-shadow(0px 1px 2px rgba(0, 0, 0, 0.3));\n",
              "      fill: #FFFFFF;\n",
              "    }\n",
              "  </style>\n",
              "\n",
              "      <script>\n",
              "        const buttonEl =\n",
              "          document.querySelector('#df-9bf40378-c360-47c4-bdc8-c5276fb456a9 button.colab-df-convert');\n",
              "        buttonEl.style.display =\n",
              "          google.colab.kernel.accessAllowed ? 'block' : 'none';\n",
              "\n",
              "        async function convertToInteractive(key) {\n",
              "          const element = document.querySelector('#df-9bf40378-c360-47c4-bdc8-c5276fb456a9');\n",
              "          const dataTable =\n",
              "            await google.colab.kernel.invokeFunction('convertToInteractive',\n",
              "                                                     [key], {});\n",
              "          if (!dataTable) return;\n",
              "\n",
              "          const docLinkHtml = 'Like what you see? Visit the ' +\n",
              "            '<a target=\"_blank\" href=https://colab.research.google.com/notebooks/data_table.ipynb>data table notebook</a>'\n",
              "            + ' to learn more about interactive tables.';\n",
              "          element.innerHTML = '';\n",
              "          dataTable['output_type'] = 'display_data';\n",
              "          await google.colab.output.renderOutput(dataTable, element);\n",
              "          const docLink = document.createElement('div');\n",
              "          docLink.innerHTML = docLinkHtml;\n",
              "          element.appendChild(docLink);\n",
              "        }\n",
              "      </script>\n",
              "    </div>\n",
              "  </div>\n",
              "  "
            ]
          },
          "metadata": {},
          "execution_count": 42
        }
      ],
      "source": [
        "# create the result table for all accuracy scores\n",
        "# accuracy measures considered for model comparision are RMSE\n",
        "# create a list of column names\n",
        "cols = ['Model', 'MAE', 'MSE', 'RMSE']\n",
        "\n",
        "# create a empty dataframe of the colums\n",
        "# columns: specifies the columns to be selected\n",
        "result_tabulation = pd.DataFrame(columns = cols)\n",
        "\n",
        "# compile the required information\n",
        "rf_reg_metrics = pd.Series({'Model': \"Random Forest \",\n",
        "                     'MAE':rf_reg_MAE,\n",
        "                     'MSE': rf_reg_MSE,\n",
        "                     'RMSE': rf_reg_RMSE     \n",
        "                   })\n",
        "\n",
        "# append our result table using append()\n",
        "# ignore_index=True: does not use the index labels\n",
        "# python can only append a Series if ignore_index=True or if the Series has a name\n",
        "result_tabulation = result_tabulation.append(rf_reg_metrics, ignore_index = True)\n",
        "\n",
        "# print the result table\n",
        "result_tabulation"
      ]
    },
    {
      "cell_type": "markdown",
      "metadata": {
        "id": "jE6vsHvLzZ3o"
      },
      "source": [
        "<table align=\"left\">\n",
        "    <tr>\n",
        "        <td width=\"8%\">\n",
        "            <img src=\"todo.png\">\n",
        "        </td>\n",
        "        <td>\n",
        "            <div align=\"left\", style=\"font-size:120%\">\n",
        "                <font color=\"#21618C\">\n",
        "                    <b>Let us also take a look at building a random forest model with grid search.\n",
        "</b>\n",
        "                </font>\n",
        "            </div>\n",
        "        </td>\n",
        "    </tr>\n",
        "</table>"
      ]
    },
    {
      "cell_type": "markdown",
      "metadata": {
        "id": "Qyfgt1U6zZ3o"
      },
      "source": [
        "<a id='RF_CV'></a>\n",
        "## 5.2 Random Forest with GridSearchCV"
      ]
    },
    {
      "cell_type": "markdown",
      "metadata": {
        "id": "1uvvqGN8zZ3o"
      },
      "source": [
        "Now we show how a decision tree is optimized by cross-validation, which is done using the `GridSearchCV()` from sklearn library.\n",
        "\n",
        "The performance of the selected hyperparameters and trained model is then measured on the test set that was not used during the model building."
      ]
    },
    {
      "cell_type": "markdown",
      "metadata": {
        "id": "Uuk-YM9kzZ3p"
      },
      "source": [
        "**1. Use GridSearch to obtain the optimal values of hyperparameters**"
      ]
    },
    {
      "cell_type": "code",
      "execution_count": 43,
      "metadata": {
        "collapsed": true,
        "id": "yhGmy4w6zZ3p"
      },
      "outputs": [],
      "source": [
        "# create a dictionary with hyperparameters and its values\n",
        "# pass the n_estimators \n",
        "# pass the list of values to 'min_samples_split' that assigns minimum number of samples to split an internal node\n",
        "# pass the list of values to 'max_depth' that assigns maximum depth of the tree\n",
        "# pass the list of values to 'min_samples_leaf' that assigns minimum number of samples required at the terminal/leaf node\n",
        "# pass the list of values to 'max_leaf_nodes' that assigns maximum number of leaf nodes in the tree\n",
        "tuned_paramaters = [{'n_estimators': [ 85, 100],\n",
        "                     'min_samples_split': [15,20],\n",
        "                     'max_depth': [8, 10]\n",
        "                     #'min_samples_leaf': [5,10],\n",
        "                     #'max_leaf_nodes': [10, 15]\n",
        "                    }]"
      ]
    },
    {
      "cell_type": "code",
      "execution_count": 44,
      "metadata": {
        "colab": {
          "base_uri": "https://localhost:8080/"
        },
        "id": "GwnB-BYpzZ3p",
        "outputId": "e8443779-94c4-473c-9e56-ec5b4371b857"
      },
      "outputs": [
        {
          "output_type": "stream",
          "name": "stdout",
          "text": [
            "Best parameters for random forest regressor:  {'max_depth': 10, 'min_samples_split': 20, 'n_estimators': 85} \n",
            "\n"
          ]
        }
      ],
      "source": [
        "# instantiate the 'RandomForestRegressor' \n",
        "# pass the 'random_state' to obtain the same samples for each time you run the code\n",
        "rf_reg_CV= RandomForestRegressor(random_state = 10)\n",
        "\n",
        "# use GridSearchCV() to find the optimal value of the hyperparameters\n",
        "# n_estimator: pass the decision tree classifier model\n",
        "# param_grid: pass the list 'tuned_parameters'\n",
        "# cv: number of folds in k-fold i.e. here cv = 10\n",
        "grid = GridSearchCV(estimator = rf_reg_CV, \n",
        "                         param_grid = tuned_paramaters, \n",
        "                         cv = 10)\n",
        "\n",
        "# fit the model on X_train and y_train using fit()\n",
        "dt_grid = grid.fit(X_train, y_train)\n",
        "\n",
        "# get the best parameters\n",
        "print('Best parameters for random forest regressor: ', dt_grid.best_params_, '\\n')"
      ]
    },
    {
      "cell_type": "markdown",
      "metadata": {
        "id": "ohCA94c3zZ3p"
      },
      "source": [
        "**2. Build the model using the hyperparameters obtained in step 1**"
      ]
    },
    {
      "cell_type": "code",
      "execution_count": 45,
      "metadata": {
        "collapsed": true,
        "id": "xxF32TCbzZ3q"
      },
      "outputs": [],
      "source": [
        "# instantiate the 'RandomForestRegressor'\n",
        "# 'best_params_' returns the dictionary containing best parameter values and parameter name  \n",
        "# 'get()' returns the value of specified parameter\n",
        "# pass the 'random_state' to obtain the same samples for each time you run the code\n",
        "dt_grid_model = RandomForestRegressor(n_estimators = dt_grid.best_params_.get('n_estimators'),\n",
        "                                       max_depth = dt_grid.best_params_.get('max_depth'),\n",
        "                                       #max_leaf_nodes = dt_grid.best_params_.get('max_leaf_nodes'),\n",
        "                                       #min_samples_leaf = dt_grid.best_params_.get('min_samples_leaf'),\n",
        "                                       min_samples_split = dt_grid.best_params_.get('min_samples_split'),\n",
        "                                       random_state = 10)\n",
        "\n",
        "# use fit() to fit the model on the train set\n",
        "dt_grid_model = dt_grid_model.fit(X_train, y_train)"
      ]
    },
    {
      "cell_type": "markdown",
      "metadata": {
        "id": "cLRHjMNPzZ3q"
      },
      "source": [
        "**3. Predict the values using test set**"
      ]
    },
    {
      "cell_type": "code",
      "execution_count": 46,
      "metadata": {
        "collapsed": true,
        "id": "t1Z_TvNkzZ3q"
      },
      "outputs": [],
      "source": [
        "# predict the class labels using 'X_test'\n",
        "y_pred = dt_grid_model.predict(X_test)"
      ]
    },
    {
      "cell_type": "markdown",
      "metadata": {
        "id": "QvSElY-WzZ3q"
      },
      "source": [
        "**4. Compute accuracy measures**\n",
        "\n",
        "Now we calculate accuray measures Root-mean-square-error (RMSE), R-squared and Adjusted R-squared."
      ]
    },
    {
      "cell_type": "code",
      "execution_count": 47,
      "metadata": {
        "colab": {
          "base_uri": "https://localhost:8080/"
        },
        "id": "cVzErlP_zZ3q",
        "outputId": "572ba876-683b-4f3d-bfe8-7fe87daca6ed"
      },
      "outputs": [
        {
          "output_type": "stream",
          "name": "stdout",
          "text": [
            "Mean Absolute Error (MAE): 2.1447956188529815\n",
            "Mean Squared Error (MSE): 23.338600157599092\n",
            "Root Mean Squared Error (RMSE): 4.8310040527409095\n"
          ]
        }
      ],
      "source": [
        "# calculate MAE\n",
        "rf_reg_CV_MAE = metrics.mean_absolute_error(y_test, y_pred)\n",
        "print('Mean Absolute Error (MAE):', rf_reg_CV_MAE)\n",
        "                                         \n",
        "# calculate MSE\n",
        "rf_reg_CV_MSE = metrics.mean_squared_error(y_test, y_pred)\n",
        "print('Mean Squared Error (MSE):', rf_reg_CV_MSE)\n",
        "                                         \n",
        "# calculate RMSE\n",
        "rf_reg_CV_RMSE = np.sqrt(metrics.mean_squared_error(y_test, y_pred))\n",
        "print('Root Mean Squared Error (RMSE):', rf_reg_CV_RMSE)"
      ]
    },
    {
      "cell_type": "markdown",
      "metadata": {
        "id": "aBfU6FSzzZ3r"
      },
      "source": [
        "**5. Tabulate the results**"
      ]
    },
    {
      "cell_type": "code",
      "execution_count": 48,
      "metadata": {
        "colab": {
          "base_uri": "https://localhost:8080/",
          "height": 112
        },
        "id": "cTOAj68vzZ3r",
        "outputId": "f99471ec-da26-4804-a901-edfd8b0f0364"
      },
      "outputs": [
        {
          "output_type": "execute_result",
          "data": {
            "text/plain": [
              "            Model      MAE       MSE     RMSE\n",
              "0  Random Forest  2.117489 23.072374 4.803371\n",
              "1  Random Forest  2.144796 23.338600 4.831004"
            ],
            "text/html": [
              "\n",
              "  <div id=\"df-b43da1bb-6771-41d0-a570-11703b4bc770\">\n",
              "    <div class=\"colab-df-container\">\n",
              "      <div>\n",
              "<style scoped>\n",
              "    .dataframe tbody tr th:only-of-type {\n",
              "        vertical-align: middle;\n",
              "    }\n",
              "\n",
              "    .dataframe tbody tr th {\n",
              "        vertical-align: top;\n",
              "    }\n",
              "\n",
              "    .dataframe thead th {\n",
              "        text-align: right;\n",
              "    }\n",
              "</style>\n",
              "<table border=\"1\" class=\"dataframe\">\n",
              "  <thead>\n",
              "    <tr style=\"text-align: right;\">\n",
              "      <th></th>\n",
              "      <th>Model</th>\n",
              "      <th>MAE</th>\n",
              "      <th>MSE</th>\n",
              "      <th>RMSE</th>\n",
              "    </tr>\n",
              "  </thead>\n",
              "  <tbody>\n",
              "    <tr>\n",
              "      <th>0</th>\n",
              "      <td>Random Forest</td>\n",
              "      <td>2.117489</td>\n",
              "      <td>23.072374</td>\n",
              "      <td>4.803371</td>\n",
              "    </tr>\n",
              "    <tr>\n",
              "      <th>1</th>\n",
              "      <td>Random Forest</td>\n",
              "      <td>2.144796</td>\n",
              "      <td>23.338600</td>\n",
              "      <td>4.831004</td>\n",
              "    </tr>\n",
              "  </tbody>\n",
              "</table>\n",
              "</div>\n",
              "      <button class=\"colab-df-convert\" onclick=\"convertToInteractive('df-b43da1bb-6771-41d0-a570-11703b4bc770')\"\n",
              "              title=\"Convert this dataframe to an interactive table.\"\n",
              "              style=\"display:none;\">\n",
              "        \n",
              "  <svg xmlns=\"http://www.w3.org/2000/svg\" height=\"24px\"viewBox=\"0 0 24 24\"\n",
              "       width=\"24px\">\n",
              "    <path d=\"M0 0h24v24H0V0z\" fill=\"none\"/>\n",
              "    <path d=\"M18.56 5.44l.94 2.06.94-2.06 2.06-.94-2.06-.94-.94-2.06-.94 2.06-2.06.94zm-11 1L8.5 8.5l.94-2.06 2.06-.94-2.06-.94L8.5 2.5l-.94 2.06-2.06.94zm10 10l.94 2.06.94-2.06 2.06-.94-2.06-.94-.94-2.06-.94 2.06-2.06.94z\"/><path d=\"M17.41 7.96l-1.37-1.37c-.4-.4-.92-.59-1.43-.59-.52 0-1.04.2-1.43.59L10.3 9.45l-7.72 7.72c-.78.78-.78 2.05 0 2.83L4 21.41c.39.39.9.59 1.41.59.51 0 1.02-.2 1.41-.59l7.78-7.78 2.81-2.81c.8-.78.8-2.07 0-2.86zM5.41 20L4 18.59l7.72-7.72 1.47 1.35L5.41 20z\"/>\n",
              "  </svg>\n",
              "      </button>\n",
              "      \n",
              "  <style>\n",
              "    .colab-df-container {\n",
              "      display:flex;\n",
              "      flex-wrap:wrap;\n",
              "      gap: 12px;\n",
              "    }\n",
              "\n",
              "    .colab-df-convert {\n",
              "      background-color: #E8F0FE;\n",
              "      border: none;\n",
              "      border-radius: 50%;\n",
              "      cursor: pointer;\n",
              "      display: none;\n",
              "      fill: #1967D2;\n",
              "      height: 32px;\n",
              "      padding: 0 0 0 0;\n",
              "      width: 32px;\n",
              "    }\n",
              "\n",
              "    .colab-df-convert:hover {\n",
              "      background-color: #E2EBFA;\n",
              "      box-shadow: 0px 1px 2px rgba(60, 64, 67, 0.3), 0px 1px 3px 1px rgba(60, 64, 67, 0.15);\n",
              "      fill: #174EA6;\n",
              "    }\n",
              "\n",
              "    [theme=dark] .colab-df-convert {\n",
              "      background-color: #3B4455;\n",
              "      fill: #D2E3FC;\n",
              "    }\n",
              "\n",
              "    [theme=dark] .colab-df-convert:hover {\n",
              "      background-color: #434B5C;\n",
              "      box-shadow: 0px 1px 3px 1px rgba(0, 0, 0, 0.15);\n",
              "      filter: drop-shadow(0px 1px 2px rgba(0, 0, 0, 0.3));\n",
              "      fill: #FFFFFF;\n",
              "    }\n",
              "  </style>\n",
              "\n",
              "      <script>\n",
              "        const buttonEl =\n",
              "          document.querySelector('#df-b43da1bb-6771-41d0-a570-11703b4bc770 button.colab-df-convert');\n",
              "        buttonEl.style.display =\n",
              "          google.colab.kernel.accessAllowed ? 'block' : 'none';\n",
              "\n",
              "        async function convertToInteractive(key) {\n",
              "          const element = document.querySelector('#df-b43da1bb-6771-41d0-a570-11703b4bc770');\n",
              "          const dataTable =\n",
              "            await google.colab.kernel.invokeFunction('convertToInteractive',\n",
              "                                                     [key], {});\n",
              "          if (!dataTable) return;\n",
              "\n",
              "          const docLinkHtml = 'Like what you see? Visit the ' +\n",
              "            '<a target=\"_blank\" href=https://colab.research.google.com/notebooks/data_table.ipynb>data table notebook</a>'\n",
              "            + ' to learn more about interactive tables.';\n",
              "          element.innerHTML = '';\n",
              "          dataTable['output_type'] = 'display_data';\n",
              "          await google.colab.output.renderOutput(dataTable, element);\n",
              "          const docLink = document.createElement('div');\n",
              "          docLink.innerHTML = docLinkHtml;\n",
              "          element.appendChild(docLink);\n",
              "        }\n",
              "      </script>\n",
              "    </div>\n",
              "  </div>\n",
              "  "
            ]
          },
          "metadata": {},
          "execution_count": 48
        }
      ],
      "source": [
        "# create the result table for all accuracy scores\n",
        "# accuracy measures considered for model comparision are MAE, MSE, RMSE\n",
        "# create a list of column names\n",
        "#cols = ['Model', 'MAE', 'MSE', 'RMSE']\n",
        "\n",
        "# create a empty dataframe of the colums\n",
        "# columns: specifies the columns to be selected\n",
        "#result_tabulation = pd.DataFrame(columns = cols)\n",
        "\n",
        "# compile the required information\n",
        "rf_reg_metrics = pd.Series({'Model': \"Random Forest \",\n",
        "                     'MAE':rf_reg_CV_MAE,\n",
        "                     'MSE': rf_reg_CV_MSE,\n",
        "                     'RMSE': rf_reg_CV_RMSE     \n",
        "                   })\n",
        "\n",
        "# append our result table using append()\n",
        "# ignore_index=True: does not use the index labels\n",
        "# python can only append a Series if ignore_index=True or if the Series has a name\n",
        "result_tabulation = result_tabulation.append(rf_reg_metrics, ignore_index = True)\n",
        "\n",
        "# print the result table\n",
        "result_tabulation"
      ]
    },
    {
      "cell_type": "markdown",
      "metadata": {
        "id": "H46wycWUzZ3r"
      },
      "source": [
        "<a id=\"conclusion\"> </a>\n",
        "# 6. Conclusion and Interpretation"
      ]
    },
    {
      "cell_type": "markdown",
      "metadata": {
        "id": "jwm5JNlSzZ3r"
      },
      "source": [
        " The regression algorithms named in the above table have been implemented on the given dataset. The performance of the models were evaluated using MAE, MSE,RMSE. <br><br>\n",
        "                        The above result shows that the RMSE value for both the model is much less than the standard deviation of the 'amount' (target) variable. Both the models have performed well. We can further fine tune the model for various hyperparameter values.\n",
        "                 "
      ]
    },
    {
      "cell_type": "code",
      "source": [
        ""
      ],
      "metadata": {
        "id": "4T1b7awTZrtB"
      },
      "execution_count": null,
      "outputs": []
    }
  ],
  "metadata": {
    "colab": {
      "name": "Taxi_Fare_Prediction.ipynb",
      "provenance": []
    },
    "kernelspec": {
      "display_name": "Python 3",
      "language": "python",
      "name": "python3"
    },
    "language_info": {
      "codemirror_mode": {
        "name": "ipython",
        "version": 3
      },
      "file_extension": ".py",
      "mimetype": "text/x-python",
      "name": "python",
      "nbconvert_exporter": "python",
      "pygments_lexer": "ipython3",
      "version": "3.6.3"
    }
  },
  "nbformat": 4,
  "nbformat_minor": 0
}